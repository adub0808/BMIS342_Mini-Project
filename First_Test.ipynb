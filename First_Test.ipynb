{
 "cells": [
  {
   "cell_type": "markdown",
   "metadata": {},
   "source": [
    "# Airbnb Pricing and Occupancy Trends in New York City\n",
    "### Introduction\n",
    "Short-term rental platforms like Airbnb have revolutionized the hospitality industry, offering unique accommodations for travelers and income opportunities for hosts. In this project, we analyze Airbnb pricing and occupancy trends in New York City—a highly active market with diverse price points—to provide actionable insights for hosts, travelers, and city planners. Using data from Inside Airbnb, we will explore price variations, seasonal trends, amenity impacts, property type distributions, and occupancy patterns."
   ]
  },
  {
   "cell_type": "markdown",
   "metadata": {},
   "source": [
    "### 1. Data Preparation & Cleaning\n",
    "#### Loading the Data\n",
    "We start by loading the Airbnb listings and calendar datasets for New York City, sourced from Inside Airbnb. The listings data contains property details, while the calendar data provides availability information.\n",
    "\n"
   ]
  },
  {
   "cell_type": "code",
   "execution_count": null,
   "metadata": {},
   "outputs": [
    {
     "name": "stdout",
     "output_type": "stream",
     "text": [
      "Downloading from https://www.kaggle.com/api/v1/datasets/download/dgomonov/new-york-city-airbnb-open-data?dataset_version_number=3...\n"
     ]
    },
    {
     "name": "stderr",
     "output_type": "stream",
     "text": [
      "100%|██████████| 2.44M/2.44M [00:00<00:00, 5.00MB/s]"
     ]
    },
    {
     "name": "stdout",
     "output_type": "stream",
     "text": [
      "Extracting files...\n"
     ]
    },
    {
     "name": "stderr",
     "output_type": "stream",
     "text": [
      "\n"
     ]
    },
    {
     "name": "stdout",
     "output_type": "stream",
     "text": [
      "Datasets loaded successfully!\n",
      "Listings shape: (37434, 79)\n",
      "Calendar shape: (13661894, 7)\n",
      "NYC 2019 shape: (48895, 16)\n"
     ]
    }
   ],
   "source": [
    "import pandas as pd\n",
    "import kagglehub\n",
    "\n",
    "# Define data types for calendar.csv\n",
    "calendar_dtypes = {\n",
    "    'listing_id': 'Int64',\n",
    "    'date': str,\n",
    "    'available': str,\n",
    "    'price': str,\n",
    "    'adjusted_price': str,\n",
    "    'minimum_nights': 'Int64',\n",
    "    'maximum_nights': 'Int64'\n",
    "}\n",
    "\n",
    "# URLs for Inside Airbnb datasets\n",
    "listings_url = 'https://data.insideairbnb.com/united-states/ny/new-york-city/2025-03-01/data/listings.csv.gz'\n",
    "calendar_url = 'https://data.insideairbnb.com/united-states/ny/new-york-city/2025-03-01/data/calendar.csv.gz'\n",
    "\n",
    "# Load datasets from URLs\n",
    "listings = pd.read_csv(listings_url, compression='gzip')\n",
    "calendar = pd.read_csv(calendar_url, dtype=calendar_dtypes, compression='gzip')\n",
    "\n",
    "# Load the Kaggle dataset (AB_NYC_2019.csv)\n",
    "dataset_path = kagglehub.dataset_download(\"dgomonov/new-york-city-airbnb-open-data\")\n",
    "file_path = f\"{dataset_path}/AB_NYC_2019.csv\"\n",
    "\n",
    "# Read the file \n",
    "try:\n",
    "    nyc_2019 = pd.read_csv(file_path, encoding='utf-8')\n",
    "except UnicodeDecodeError:\n",
    "    nyc_2019 = pd.read_csv(file_path, encoding='latin1')\n",
    "\n",
    "print(\"Datasets loaded successfully!\")\n",
    "print(\"Listings shape:\", listings.shape)\n",
    "print(\"Calendar shape:\", calendar.shape)\n",
    "print(\"NYC 2019 shape:\", nyc_2019.shape)"
   ]
  },
  {
   "cell_type": "code",
   "execution_count": 3,
   "metadata": {},
   "outputs": [
    {
     "data": {
      "application/vnd.microsoft.datawrangler.viewer.v0+json": {
       "columns": [
        {
         "name": "index",
         "rawType": "int64",
         "type": "integer"
        },
        {
         "name": "id",
         "rawType": "int64",
         "type": "integer"
        },
        {
         "name": "listing_url",
         "rawType": "object",
         "type": "string"
        },
        {
         "name": "scrape_id",
         "rawType": "int64",
         "type": "integer"
        },
        {
         "name": "last_scraped",
         "rawType": "object",
         "type": "string"
        },
        {
         "name": "source",
         "rawType": "object",
         "type": "string"
        },
        {
         "name": "name",
         "rawType": "object",
         "type": "string"
        },
        {
         "name": "description",
         "rawType": "object",
         "type": "string"
        },
        {
         "name": "neighborhood_overview",
         "rawType": "object",
         "type": "string"
        },
        {
         "name": "picture_url",
         "rawType": "object",
         "type": "string"
        },
        {
         "name": "host_id",
         "rawType": "int64",
         "type": "integer"
        },
        {
         "name": "host_url",
         "rawType": "object",
         "type": "string"
        },
        {
         "name": "host_name",
         "rawType": "object",
         "type": "string"
        },
        {
         "name": "host_since",
         "rawType": "object",
         "type": "string"
        },
        {
         "name": "host_location",
         "rawType": "object",
         "type": "string"
        },
        {
         "name": "host_about",
         "rawType": "object",
         "type": "unknown"
        },
        {
         "name": "host_response_time",
         "rawType": "object",
         "type": "unknown"
        },
        {
         "name": "host_response_rate",
         "rawType": "object",
         "type": "unknown"
        },
        {
         "name": "host_acceptance_rate",
         "rawType": "object",
         "type": "unknown"
        },
        {
         "name": "host_is_superhost",
         "rawType": "object",
         "type": "string"
        },
        {
         "name": "host_thumbnail_url",
         "rawType": "object",
         "type": "string"
        },
        {
         "name": "host_picture_url",
         "rawType": "object",
         "type": "string"
        },
        {
         "name": "host_neighbourhood",
         "rawType": "object",
         "type": "string"
        },
        {
         "name": "host_listings_count",
         "rawType": "float64",
         "type": "float"
        },
        {
         "name": "host_total_listings_count",
         "rawType": "float64",
         "type": "float"
        },
        {
         "name": "host_verifications",
         "rawType": "object",
         "type": "string"
        },
        {
         "name": "host_has_profile_pic",
         "rawType": "object",
         "type": "string"
        },
        {
         "name": "host_identity_verified",
         "rawType": "object",
         "type": "string"
        },
        {
         "name": "neighbourhood",
         "rawType": "object",
         "type": "string"
        },
        {
         "name": "neighbourhood_cleansed",
         "rawType": "object",
         "type": "string"
        },
        {
         "name": "neighbourhood_group_cleansed",
         "rawType": "object",
         "type": "string"
        },
        {
         "name": "latitude",
         "rawType": "float64",
         "type": "float"
        },
        {
         "name": "longitude",
         "rawType": "float64",
         "type": "float"
        },
        {
         "name": "property_type",
         "rawType": "object",
         "type": "string"
        },
        {
         "name": "room_type",
         "rawType": "object",
         "type": "string"
        },
        {
         "name": "accommodates",
         "rawType": "int64",
         "type": "integer"
        },
        {
         "name": "bathrooms",
         "rawType": "float64",
         "type": "float"
        },
        {
         "name": "bathrooms_text",
         "rawType": "object",
         "type": "string"
        },
        {
         "name": "bedrooms",
         "rawType": "float64",
         "type": "float"
        },
        {
         "name": "beds",
         "rawType": "float64",
         "type": "float"
        },
        {
         "name": "amenities",
         "rawType": "object",
         "type": "string"
        },
        {
         "name": "price",
         "rawType": "object",
         "type": "string"
        },
        {
         "name": "minimum_nights",
         "rawType": "int64",
         "type": "integer"
        },
        {
         "name": "maximum_nights",
         "rawType": "int64",
         "type": "integer"
        },
        {
         "name": "minimum_minimum_nights",
         "rawType": "float64",
         "type": "float"
        },
        {
         "name": "maximum_minimum_nights",
         "rawType": "float64",
         "type": "float"
        },
        {
         "name": "minimum_maximum_nights",
         "rawType": "float64",
         "type": "float"
        },
        {
         "name": "maximum_maximum_nights",
         "rawType": "float64",
         "type": "float"
        },
        {
         "name": "minimum_nights_avg_ntm",
         "rawType": "float64",
         "type": "float"
        },
        {
         "name": "maximum_nights_avg_ntm",
         "rawType": "float64",
         "type": "float"
        },
        {
         "name": "calendar_updated",
         "rawType": "float64",
         "type": "float"
        },
        {
         "name": "has_availability",
         "rawType": "object",
         "type": "string"
        },
        {
         "name": "availability_30",
         "rawType": "int64",
         "type": "integer"
        },
        {
         "name": "availability_60",
         "rawType": "int64",
         "type": "integer"
        },
        {
         "name": "availability_90",
         "rawType": "int64",
         "type": "integer"
        },
        {
         "name": "availability_365",
         "rawType": "int64",
         "type": "integer"
        },
        {
         "name": "calendar_last_scraped",
         "rawType": "object",
         "type": "string"
        },
        {
         "name": "number_of_reviews",
         "rawType": "int64",
         "type": "integer"
        },
        {
         "name": "number_of_reviews_ltm",
         "rawType": "int64",
         "type": "integer"
        },
        {
         "name": "number_of_reviews_l30d",
         "rawType": "int64",
         "type": "integer"
        },
        {
         "name": "availability_eoy",
         "rawType": "int64",
         "type": "integer"
        },
        {
         "name": "number_of_reviews_ly",
         "rawType": "int64",
         "type": "integer"
        },
        {
         "name": "estimated_occupancy_l365d",
         "rawType": "int64",
         "type": "integer"
        },
        {
         "name": "estimated_revenue_l365d",
         "rawType": "float64",
         "type": "float"
        },
        {
         "name": "first_review",
         "rawType": "object",
         "type": "string"
        },
        {
         "name": "last_review",
         "rawType": "object",
         "type": "string"
        },
        {
         "name": "review_scores_rating",
         "rawType": "float64",
         "type": "float"
        },
        {
         "name": "review_scores_accuracy",
         "rawType": "float64",
         "type": "float"
        },
        {
         "name": "review_scores_cleanliness",
         "rawType": "float64",
         "type": "float"
        },
        {
         "name": "review_scores_checkin",
         "rawType": "float64",
         "type": "float"
        },
        {
         "name": "review_scores_communication",
         "rawType": "float64",
         "type": "float"
        },
        {
         "name": "review_scores_location",
         "rawType": "float64",
         "type": "float"
        },
        {
         "name": "review_scores_value",
         "rawType": "float64",
         "type": "float"
        },
        {
         "name": "license",
         "rawType": "object",
         "type": "unknown"
        },
        {
         "name": "instant_bookable",
         "rawType": "object",
         "type": "string"
        },
        {
         "name": "calculated_host_listings_count",
         "rawType": "int64",
         "type": "integer"
        },
        {
         "name": "calculated_host_listings_count_entire_homes",
         "rawType": "int64",
         "type": "integer"
        },
        {
         "name": "calculated_host_listings_count_private_rooms",
         "rawType": "int64",
         "type": "integer"
        },
        {
         "name": "calculated_host_listings_count_shared_rooms",
         "rawType": "int64",
         "type": "integer"
        },
        {
         "name": "reviews_per_month",
         "rawType": "float64",
         "type": "float"
        }
       ],
       "conversionMethod": "pd.DataFrame",
       "ref": "31003ffd-3f37-4470-8301-91cc6f21ebe5",
       "rows": [
        [
         "0",
         "36121",
         "https://www.airbnb.com/rooms/36121",
         "20250301213336",
         "2025-03-03",
         "city scrape",
         "Lg Rm in Historic Prospect Heights",
         "Cozy space share in the heart of a great neighborhood. I split my time between Brooklyn and the Hudson Valley. Am looking for someone to share the space who is also willing to water plants and get mail periodically.",
         "Full of tree-lined streets and beautiful brownstone buildings. Ethnically and racially mixed. Across the street, there is a small corner supermarket, an ice cream shop, dry cleaners, a bar, co-working space and Chinese take-out. Steps away from Prospect Park. Walking distance from Prospect Park, Brooklyn Museum, Brooklyn Botanical Garden, Brooklyn Academy of Music, great restaurants, cafes, bars, community gardens and shops.",
         "https://a0.muscache.com/pictures/8776354/35b32b92_original.jpg",
         "62165",
         "https://www.airbnb.com/users/show/62165",
         "Michael",
         "2009-12-11",
         "New York, NY",
         "I’m an urban planner working for an international sustainable transport NGO. When I’m home, I catch up on reading and maybe have a beer/glass of wine with a friend or two. I spend a lot of time thinking about cities and visiting them. I'm also always keen on diversifying my music listening.",
         null,
         null,
         null,
         "f",
         "https://a0.muscache.com/im/users/62165/profile_pic/1278077777/original.jpg?aki_policy=profile_small",
         "https://a0.muscache.com/im/users/62165/profile_pic/1278077777/original.jpg?aki_policy=profile_x_medium",
         "Prospect Heights",
         "1.0",
         "3.0",
         "['email', 'phone', 'work_email']",
         "t",
         "t",
         "Neighborhood highlights",
         "Prospect Heights",
         "Brooklyn",
         "40.67376",
         "-73.96611",
         "Private room in rental unit",
         "Private room",
         "1",
         "1.0",
         "1 shared bath",
         "1.0",
         "1.0",
         "[\"Refrigerator\", \"Dishes and silverware\", \"Wifi\", \"Kitchen\", \"Elevator\", \"City skyline view\", \"Heating\"]",
         "$200.00",
         "90",
         "365",
         "90.0",
         "90.0",
         "365.0",
         "365.0",
         "90.0",
         "365.0",
         null,
         "t",
         "27",
         "57",
         "87",
         "362",
         "2025-03-03",
         "9",
         "0",
         "0",
         "301",
         "0",
         "0",
         "0.0",
         "2010-12-11",
         "2013-05-10",
         "4.88",
         "5.0",
         "4.8",
         "5.0",
         "5.0",
         "5.0",
         "5.0",
         null,
         "f",
         "1",
         "0",
         "1",
         "0",
         "0.05"
        ],
        [
         "1",
         "36647",
         "https://www.airbnb.com/rooms/36647",
         "20250301213336",
         "2025-03-03",
         "city scrape",
         "1 Bedroom & your own Bathroom, Elevator Apartment",
         "Private bedroom with your own bathroom in a 2 bedroom, 2 bathroom, modern-style furnished elevator condo, 2007 built.",
         "Manhattan, SE corner of 2nd Ave/ E. 110th street",
         "https://a0.muscache.com/pictures/miso/Hosting-36647/original/c4dca592-e4a3-4502-98e5-71202939fc6b.jpeg",
         "157798",
         "https://www.airbnb.com/users/show/157798",
         "Irene",
         "2010-07-04",
         "New York, NY",
         null,
         null,
         null,
         "100%",
         "f",
         "https://a0.muscache.com/im/pictures/user/e8797448-660d-4457-ae42-4e8f4c6aca28.jpg?aki_policy=profile_small",
         "https://a0.muscache.com/im/pictures/user/e8797448-660d-4457-ae42-4e8f4c6aca28.jpg?aki_policy=profile_x_medium",
         "East Harlem",
         "1.0",
         "1.0",
         "['email', 'phone']",
         "t",
         "t",
         "Neighborhood highlights",
         "East Harlem",
         "Manhattan",
         "40.79245376586914",
         "-73.94074249267578",
         "Private room in condo",
         "Private room",
         "2",
         "1.0",
         "1 private bath",
         "1.0",
         "1.0",
         "[\"Oven\", \"Blender\", \"Luggage dropoff allowed\", \"Dedicated workspace\", \"Dining table\", \"Microwave\", \"Hair dryer\", \"Host greets you\", \"Essentials\", \"Long term stays allowed\", \"Iron\", \"Bed linens\", \"Elevator\", \"Bathtub\", \"Heating\", \"Free street parking\", \"Paid washer \\u2013 In building\", \"Air conditioning\", \"Toaster\", \"Cleaning products\", \"Clothing storage\", \"Dishes and silverware\", \"Hot water\", \"Wifi\", \"Kitchen\", \"Coffee maker\", \"Refrigerator\", \"Dryer \\u2013 In building\", \"Hangers\", \"Shampoo\", \"Freezer\", \"Room-darkening shades\"]",
         "$82.00",
         "30",
         "999",
         "30.0",
         "30.0",
         "999.0",
         "999.0",
         "30.0",
         "999.0",
         null,
         "t",
         "0",
         "0",
         "0",
         "204",
         "2025-03-03",
         "102",
         "0",
         "0",
         "143",
         "0",
         "0",
         "0.0",
         "2010-10-04",
         "2023-12-09",
         "4.77",
         "4.82",
         "4.76",
         "4.88",
         "4.9",
         "4.38",
         "4.71",
         null,
         "f",
         "1",
         "0",
         "1",
         "0",
         "0.58"
        ],
        [
         "2",
         "38663",
         "https://www.airbnb.com/rooms/38663",
         "20250301213336",
         "2025-03-02",
         "city scrape",
         "Luxury Brownstone in Boerum Hill",
         "Beautiful, large home in great hipster neighborhood. Big backyard, perfect for kids!",
         "diverse, lively, hip, cool: loaded with restaurants, cafes, bars, boutiques, art galleries, movie theaters, theaters, and generally fascinating people",
         "https://a0.muscache.com/pictures/miso/Hosting-38663/original/496f81f2-1443-4cc5-b90c-d8dedecbf42f.jpeg",
         "165789",
         "https://www.airbnb.com/users/show/165789",
         "Sarah",
         "2010-07-13",
         "New York, NY",
         "I am a lawyer and work as an executive at an advocacy think tank. I am married with three children.",
         "within a few hours",
         "100%",
         "40%",
         "f",
         "https://a0.muscache.com/im/users/165789/profile_pic/1279053420/original.jpg?aki_policy=profile_small",
         "https://a0.muscache.com/im/users/165789/profile_pic/1279053420/original.jpg?aki_policy=profile_x_medium",
         "Boerum Hill",
         "1.0",
         "3.0",
         "['email', 'phone', 'work_email']",
         "t",
         "t",
         "Neighborhood highlights",
         "Boerum Hill",
         "Brooklyn",
         "40.68442",
         "-73.98068",
         "Private room in home",
         "Private room",
         "2",
         "2.5",
         "2.5 baths",
         "5.0",
         "5.0",
         "[\"Portable fans\", \"Oven\", \"Baking sheet\", \"Fire extinguisher\", \"First aid kit\", \"Free washer \\u2013 In unit\", \"Blender\", \"Luggage dropoff allowed\", \"Dedicated workspace\", \"Extra pillows and blankets\", \"Bose sound system with Bluetooth and aux\", \"Cooking basics\", \"Dining table\", \"Coffee\", \"Microwave\", \"Hair dryer\", \"Window AC unit\", \"Self check-in\", \"Wine glasses\", \"Long term stays allowed\", \"Central air conditioning\", \"Iron\", \"Bed linens\", \"TV with standard cable\", \"Private backyard \\u2013 Fully fenced\", \"Dishwasher\", \"Children\\u2019s books and toys\", \"Various body soap\", \"Baby safety gates\", \"Ceiling fan\", \"Board games\", \"Lockbox\", \"BBQ grill\", \"Bathtub\", \"Outdoor playground\", \"Heating\", \"Outdoor furniture\", \"Barbecue utensils\", \"Free street parking\", \"Toaster\", \"Shower gel\", \"Cleaning products\", \"Dishes and silverware\", \"Cleaning available during stay\", \"Viking stainless steel stove\", \"Carbon monoxide alarm\", \"Hot water\", \"Wifi\", \"Smoke alarm\", \"Various conditioner\", \"Kitchen\", \"Hot water kettle\", \"Private entrance\", \"Coffee maker\", \"Private patio or balcony\", \"Outdoor dining area\", \"Paid parking garage off premises\", \"Refrigerator\", \"Exercise equipment: free weights, yoga mat\", \"Hangers\", \"Record player\", \"Indoor fireplace: wood-burning\", \"Free dryer \\u2013 In unit\", \"Books and reading material\", \"Shampoo\", \"Pack \\u2019n play/Travel crib\", \"Freezer\", \"Room-darkening shades\"]",
         "$765.00",
         "3",
         "60",
         "3.0",
         "3.0",
         "60.0",
         "60.0",
         "3.0",
         "60.0",
         null,
         "t",
         "30",
         "49",
         "66",
         "326",
         "2025-03-02",
         "43",
         "0",
         "0",
         "267",
         "0",
         "0",
         "0.0",
         "2012-07-09",
         "2023-08-30",
         "4.7",
         "4.83",
         "4.52",
         "4.88",
         "4.88",
         "4.86",
         "4.62",
         "OSE-STRREG-0001784",
         "f",
         "1",
         "0",
         "1",
         "0",
         "0.28"
        ],
        [
         "3",
         "38833",
         "https://www.airbnb.com/rooms/38833",
         "20250301213336",
         "2025-03-03",
         "city scrape",
         "Spectacular West Harlem Garden Apt",
         "This is a very large and unique  space. An incredibly quiet apartment on one of the nicest blocks in Manhattan. Its a very spacious (800 sq ft)  home with an 800 sq ft garden /patio with right outside your bedroom door ! Despite the country-quiet, you are only 100 feet away from the subway which gets you in to the center of Manhattan in 8-10 minutes..",
         "West Harlem is now packed with great restaurants, music venues, bars and nightlife. High end Coffee shops, art galleries and home to some of the most beautiful brownstones in the world. There are many modes of public transportation throughout the neighborhood. A-B -C -D-2 -3 subway trains are all available in this neighborhood and buses on every avenue.... Across the street is the beautiful St Nicholas park. Up the hill is the campus of City College with its gorgeous architecture and beautiful grounds.... A few blocks away is a National Park property....United States Founding father Alexander Hamiltons home.",
         "https://a0.muscache.com/pictures/7554f9e5-4ab0-421b-a70f-a57b222560f3.jpg",
         "166532",
         "https://www.airbnb.com/users/show/166532",
         "Matthew",
         "2010-07-14",
         "New York, NY",
         "I have been a New Yorker for a long time\n and Love this city !\r\n  I am an author and  health and fitness expert  and do personal training as well as health consultations and lectures. I have many interests from music to art and literature.\r\n  I know  my  city  very well and  am happy to make suggestions and recommendations so my guests will fully enjoy their New York Experience.\r\nI guarantee you will thoroughly enjoy your stay here !",
         "within an hour",
         "100%",
         "97%",
         "t",
         "https://a0.muscache.com/im/users/166532/profile_pic/1279133921/original.jpg?aki_policy=profile_small",
         "https://a0.muscache.com/im/users/166532/profile_pic/1279133921/original.jpg?aki_policy=profile_x_medium",
         "Harlem",
         "1.0",
         "1.0",
         "['email', 'phone']",
         "t",
         "t",
         "Neighborhood highlights",
         "Harlem",
         "Manhattan",
         "40.8180576",
         "-73.9466707",
         "Entire home",
         "Entire home/apt",
         "2",
         "1.0",
         "1 bath",
         "1.0",
         "1.0",
         "[\"Fire extinguisher\", \"Clothing storage: closet\", \"Single level home\", \"36 inch HDTV with Chromecast, Roku, Amazon Prime Video, Hulu, Fire TV\", \"Luggage dropoff allowed\", \"Dedicated workspace\", \"Extra pillows and blankets\", \"Dining table\", \"Cooking basics\", \"Coffee\", \"Fire pit\", \"Microwave\", \"Stainless steel gas stove\", \"Hair dryer\", \"Window AC unit\", \"Wine glasses\", \"Essentials\", \"Long term stays allowed\", \"Iron\", \"Bed linens\", \"Private backyard \\u2013 Fully fenced\", \"Dishwasher\", \"Ceiling fan\", \"Spacious GE Full sized refrigerator  refrigerator\", \"Heating\", \"Mosquito net\", \"Outdoor furniture\", \"Free street parking\", \"Shower gel\", \"Coffee maker: french press\", \"Cleaning products\", \"Dishes and silverware\", \"Cleaning available during stay\", \"Carbon monoxide alarm\", \"Free parking on premises\", \"Hot water\", \"Wifi\", \"Smoke alarm\", \"Private entrance\", \"Kitchen\", \"Brand new full sized oven stainless steel double oven\", \"Private patio or balcony\", \"Outdoor dining area\", \"Hangers\", \"Baking sheet\", \"Shampoo\", \"Freezer\"]",
         "$139.00",
         "2",
         "45",
         "2.0",
         "2.0",
         "1125.0",
         "1125.0",
         "2.0",
         "1125.0",
         null,
         "t",
         "7",
         "18",
         "25",
         "25",
         "2025-03-03",
         "241",
         "42",
         "3",
         "25",
         "43",
         "255",
         "35445.0",
         "2010-08-28",
         "2025-02-21",
         "4.85",
         "4.87",
         "4.5",
         "4.96",
         "4.96",
         "4.79",
         "4.82",
         "OSE-STRREG-0000476",
         "f",
         "1",
         "1",
         "0",
         "0",
         "1.36"
        ],
        [
         "4",
         "39282",
         "https://www.airbnb.com/rooms/39282",
         "20250301213336",
         "2025-03-02",
         "city scrape",
         "“Work-from-home” from OUR home.",
         "*Monthly Discount will automatically apply <br />NOTE: this is a PRIVATE ROOM in a SHARED apt with the HOSTS and other AIRBNB GUESTS… we, the hosts, will be present in the unit with you,<br /><br />Your home-office away from home. Guests enjoys a private, well appointed room perfect for tele-commuting, etc...outfitted with a proper desk and chair, high speed internet, air/heat, in addition to a comfy bed and lots of natural light.<br />* Bookings for MORE than 1 guest are limited to 7 days",
         "THE NEIGHBORHOOD:<br />Our apartment is located in Williamsburg, Brooklyn...one of the most dynamic neighborhoods in NYC. Surrounded by cool restaurants, cafes, bars, and boutiques. 10 min to Bushwhick, East Village and the L.E.S. 20 min to most other destinations.",
         "https://a0.muscache.com/pictures/ef8f43ad-d967-4309-aa3c-b6b4fb5ca59d.jpg",
         "168525",
         "https://www.airbnb.com/users/show/168525",
         "Gustavo",
         "2010-07-16",
         "New York, NY",
         "I am a music producer. And my wife is a hair stylist.\r\nWe have a very nice apartment in Williamsburg, Brooklyn (very close to Manhattan's East Village), with  two spare bedrooms. \r\nWe're a laid back couple. We like to keep our place relatively neat and clean. We're respectful of others' privacy, but we also enjoy socializing and good conversation.\r\n\r\nWe love to cook and eat, and find great restaurants! When we travel, the first thing we think about is where we'll eat, and how we can best explore a country's typical foods.\r\nWhen we host, we love to share our 20 years of experience in this neighborhood by recommending our favorite spots. \r\n\r\nWe have a fantastic view from our roof. When the weather's right, one of our favorite things to do is to sit up there with friends, have some drinks, and talk for hours.\r\n\r\n",
         "within an hour",
         "100%",
         "100%",
         "t",
         "https://a0.muscache.com/im/users/168525/profile_pic/1316493537/original.jpg?aki_policy=profile_small",
         "https://a0.muscache.com/im/users/168525/profile_pic/1316493537/original.jpg?aki_policy=profile_x_medium",
         "Williamsburg",
         "2.0",
         "2.0",
         "['email', 'phone']",
         "t",
         "t",
         "Neighborhood highlights",
         "Williamsburg",
         "Brooklyn",
         "40.71065139770508",
         "-73.95087432861328",
         "Private room in rental unit",
         "Private room",
         "2",
         "1.0",
         "1 shared bath",
         "1.0",
         "1.0",
         "[\"Oven\", \"Rice maker\", \"Laundromat nearby\", \"Luggage dropoff allowed\", \"Dedicated workspace\", \"Keypad\", \"Cooking basics\", \"Microwave\", \"Hair dryer\", \"Window AC unit\", \"Self check-in\", \"Essentials\", \"Long term stays allowed\", \"Iron\", \"Bed linens\", \"TV with standard cable\", \"Dishwasher\", \"Stove\", \"Heating\", \"Free street parking\", \"Dishes and silverware\", \"Hot water\", \"Wifi\", \"Kitchen\", \"Coffee maker\", \"Refrigerator\", \"Hangers\", \"Baking sheet\", \"Freezer\"]",
         "$130.00",
         "4",
         "45",
         "4.0",
         "4.0",
         "45.0",
         "45.0",
         "4.0",
         "45.0",
         null,
         "t",
         "14",
         "22",
         "38",
         "38",
         "2025-03-02",
         "274",
         "12",
         "0",
         "38",
         "12",
         "154",
         "20020.0",
         "2010-08-02",
         "2025-01-03",
         "4.82",
         "4.83",
         "4.61",
         "4.94",
         "4.88",
         "4.85",
         "4.78",
         "OSE-STRREG-0001150",
         "f",
         "2",
         "0",
         "2",
         "0",
         "1.54"
        ]
       ],
       "shape": {
        "columns": 79,
        "rows": 5
       }
      },
      "text/html": [
       "<div>\n",
       "<style scoped>\n",
       "    .dataframe tbody tr th:only-of-type {\n",
       "        vertical-align: middle;\n",
       "    }\n",
       "\n",
       "    .dataframe tbody tr th {\n",
       "        vertical-align: top;\n",
       "    }\n",
       "\n",
       "    .dataframe thead th {\n",
       "        text-align: right;\n",
       "    }\n",
       "</style>\n",
       "<table border=\"1\" class=\"dataframe\">\n",
       "  <thead>\n",
       "    <tr style=\"text-align: right;\">\n",
       "      <th></th>\n",
       "      <th>id</th>\n",
       "      <th>listing_url</th>\n",
       "      <th>scrape_id</th>\n",
       "      <th>last_scraped</th>\n",
       "      <th>source</th>\n",
       "      <th>name</th>\n",
       "      <th>description</th>\n",
       "      <th>neighborhood_overview</th>\n",
       "      <th>picture_url</th>\n",
       "      <th>host_id</th>\n",
       "      <th>...</th>\n",
       "      <th>review_scores_communication</th>\n",
       "      <th>review_scores_location</th>\n",
       "      <th>review_scores_value</th>\n",
       "      <th>license</th>\n",
       "      <th>instant_bookable</th>\n",
       "      <th>calculated_host_listings_count</th>\n",
       "      <th>calculated_host_listings_count_entire_homes</th>\n",
       "      <th>calculated_host_listings_count_private_rooms</th>\n",
       "      <th>calculated_host_listings_count_shared_rooms</th>\n",
       "      <th>reviews_per_month</th>\n",
       "    </tr>\n",
       "  </thead>\n",
       "  <tbody>\n",
       "    <tr>\n",
       "      <th>0</th>\n",
       "      <td>36121</td>\n",
       "      <td>https://www.airbnb.com/rooms/36121</td>\n",
       "      <td>20250301213336</td>\n",
       "      <td>2025-03-03</td>\n",
       "      <td>city scrape</td>\n",
       "      <td>Lg Rm in Historic Prospect Heights</td>\n",
       "      <td>Cozy space share in the heart of a great neigh...</td>\n",
       "      <td>Full of tree-lined streets and beautiful brown...</td>\n",
       "      <td>https://a0.muscache.com/pictures/8776354/35b32...</td>\n",
       "      <td>62165</td>\n",
       "      <td>...</td>\n",
       "      <td>5.00</td>\n",
       "      <td>5.00</td>\n",
       "      <td>5.00</td>\n",
       "      <td>NaN</td>\n",
       "      <td>f</td>\n",
       "      <td>1</td>\n",
       "      <td>0</td>\n",
       "      <td>1</td>\n",
       "      <td>0</td>\n",
       "      <td>0.05</td>\n",
       "    </tr>\n",
       "    <tr>\n",
       "      <th>1</th>\n",
       "      <td>36647</td>\n",
       "      <td>https://www.airbnb.com/rooms/36647</td>\n",
       "      <td>20250301213336</td>\n",
       "      <td>2025-03-03</td>\n",
       "      <td>city scrape</td>\n",
       "      <td>1 Bedroom &amp; your own Bathroom, Elevator Apartment</td>\n",
       "      <td>Private bedroom with your own bathroom in a 2 ...</td>\n",
       "      <td>Manhattan, SE corner of 2nd Ave/ E. 110th street</td>\n",
       "      <td>https://a0.muscache.com/pictures/miso/Hosting-...</td>\n",
       "      <td>157798</td>\n",
       "      <td>...</td>\n",
       "      <td>4.90</td>\n",
       "      <td>4.38</td>\n",
       "      <td>4.71</td>\n",
       "      <td>NaN</td>\n",
       "      <td>f</td>\n",
       "      <td>1</td>\n",
       "      <td>0</td>\n",
       "      <td>1</td>\n",
       "      <td>0</td>\n",
       "      <td>0.58</td>\n",
       "    </tr>\n",
       "    <tr>\n",
       "      <th>2</th>\n",
       "      <td>38663</td>\n",
       "      <td>https://www.airbnb.com/rooms/38663</td>\n",
       "      <td>20250301213336</td>\n",
       "      <td>2025-03-02</td>\n",
       "      <td>city scrape</td>\n",
       "      <td>Luxury Brownstone in Boerum Hill</td>\n",
       "      <td>Beautiful, large home in great hipster neighbo...</td>\n",
       "      <td>diverse, lively, hip, cool: loaded with restau...</td>\n",
       "      <td>https://a0.muscache.com/pictures/miso/Hosting-...</td>\n",
       "      <td>165789</td>\n",
       "      <td>...</td>\n",
       "      <td>4.88</td>\n",
       "      <td>4.86</td>\n",
       "      <td>4.62</td>\n",
       "      <td>OSE-STRREG-0001784</td>\n",
       "      <td>f</td>\n",
       "      <td>1</td>\n",
       "      <td>0</td>\n",
       "      <td>1</td>\n",
       "      <td>0</td>\n",
       "      <td>0.28</td>\n",
       "    </tr>\n",
       "    <tr>\n",
       "      <th>3</th>\n",
       "      <td>38833</td>\n",
       "      <td>https://www.airbnb.com/rooms/38833</td>\n",
       "      <td>20250301213336</td>\n",
       "      <td>2025-03-03</td>\n",
       "      <td>city scrape</td>\n",
       "      <td>Spectacular West Harlem Garden Apt</td>\n",
       "      <td>This is a very large and unique  space. An inc...</td>\n",
       "      <td>West Harlem is now packed with great restauran...</td>\n",
       "      <td>https://a0.muscache.com/pictures/7554f9e5-4ab0...</td>\n",
       "      <td>166532</td>\n",
       "      <td>...</td>\n",
       "      <td>4.96</td>\n",
       "      <td>4.79</td>\n",
       "      <td>4.82</td>\n",
       "      <td>OSE-STRREG-0000476</td>\n",
       "      <td>f</td>\n",
       "      <td>1</td>\n",
       "      <td>1</td>\n",
       "      <td>0</td>\n",
       "      <td>0</td>\n",
       "      <td>1.36</td>\n",
       "    </tr>\n",
       "    <tr>\n",
       "      <th>4</th>\n",
       "      <td>39282</td>\n",
       "      <td>https://www.airbnb.com/rooms/39282</td>\n",
       "      <td>20250301213336</td>\n",
       "      <td>2025-03-02</td>\n",
       "      <td>city scrape</td>\n",
       "      <td>“Work-from-home” from OUR home.</td>\n",
       "      <td>*Monthly Discount will automatically apply &lt;br...</td>\n",
       "      <td>THE NEIGHBORHOOD:&lt;br /&gt;Our apartment is locate...</td>\n",
       "      <td>https://a0.muscache.com/pictures/ef8f43ad-d967...</td>\n",
       "      <td>168525</td>\n",
       "      <td>...</td>\n",
       "      <td>4.88</td>\n",
       "      <td>4.85</td>\n",
       "      <td>4.78</td>\n",
       "      <td>OSE-STRREG-0001150</td>\n",
       "      <td>f</td>\n",
       "      <td>2</td>\n",
       "      <td>0</td>\n",
       "      <td>2</td>\n",
       "      <td>0</td>\n",
       "      <td>1.54</td>\n",
       "    </tr>\n",
       "  </tbody>\n",
       "</table>\n",
       "<p>5 rows × 79 columns</p>\n",
       "</div>"
      ],
      "text/plain": [
       "      id                         listing_url       scrape_id last_scraped  \\\n",
       "0  36121  https://www.airbnb.com/rooms/36121  20250301213336   2025-03-03   \n",
       "1  36647  https://www.airbnb.com/rooms/36647  20250301213336   2025-03-03   \n",
       "2  38663  https://www.airbnb.com/rooms/38663  20250301213336   2025-03-02   \n",
       "3  38833  https://www.airbnb.com/rooms/38833  20250301213336   2025-03-03   \n",
       "4  39282  https://www.airbnb.com/rooms/39282  20250301213336   2025-03-02   \n",
       "\n",
       "        source                                               name  \\\n",
       "0  city scrape                 Lg Rm in Historic Prospect Heights   \n",
       "1  city scrape  1 Bedroom & your own Bathroom, Elevator Apartment   \n",
       "2  city scrape                   Luxury Brownstone in Boerum Hill   \n",
       "3  city scrape                 Spectacular West Harlem Garden Apt   \n",
       "4  city scrape                    “Work-from-home” from OUR home.   \n",
       "\n",
       "                                         description  \\\n",
       "0  Cozy space share in the heart of a great neigh...   \n",
       "1  Private bedroom with your own bathroom in a 2 ...   \n",
       "2  Beautiful, large home in great hipster neighbo...   \n",
       "3  This is a very large and unique  space. An inc...   \n",
       "4  *Monthly Discount will automatically apply <br...   \n",
       "\n",
       "                               neighborhood_overview  \\\n",
       "0  Full of tree-lined streets and beautiful brown...   \n",
       "1   Manhattan, SE corner of 2nd Ave/ E. 110th street   \n",
       "2  diverse, lively, hip, cool: loaded with restau...   \n",
       "3  West Harlem is now packed with great restauran...   \n",
       "4  THE NEIGHBORHOOD:<br />Our apartment is locate...   \n",
       "\n",
       "                                         picture_url  host_id  ...  \\\n",
       "0  https://a0.muscache.com/pictures/8776354/35b32...    62165  ...   \n",
       "1  https://a0.muscache.com/pictures/miso/Hosting-...   157798  ...   \n",
       "2  https://a0.muscache.com/pictures/miso/Hosting-...   165789  ...   \n",
       "3  https://a0.muscache.com/pictures/7554f9e5-4ab0...   166532  ...   \n",
       "4  https://a0.muscache.com/pictures/ef8f43ad-d967...   168525  ...   \n",
       "\n",
       "  review_scores_communication review_scores_location review_scores_value  \\\n",
       "0                        5.00                   5.00                5.00   \n",
       "1                        4.90                   4.38                4.71   \n",
       "2                        4.88                   4.86                4.62   \n",
       "3                        4.96                   4.79                4.82   \n",
       "4                        4.88                   4.85                4.78   \n",
       "\n",
       "              license instant_bookable calculated_host_listings_count  \\\n",
       "0                 NaN                f                              1   \n",
       "1                 NaN                f                              1   \n",
       "2  OSE-STRREG-0001784                f                              1   \n",
       "3  OSE-STRREG-0000476                f                              1   \n",
       "4  OSE-STRREG-0001150                f                              2   \n",
       "\n",
       "  calculated_host_listings_count_entire_homes  \\\n",
       "0                                           0   \n",
       "1                                           0   \n",
       "2                                           0   \n",
       "3                                           1   \n",
       "4                                           0   \n",
       "\n",
       "  calculated_host_listings_count_private_rooms  \\\n",
       "0                                            1   \n",
       "1                                            1   \n",
       "2                                            1   \n",
       "3                                            0   \n",
       "4                                            2   \n",
       "\n",
       "  calculated_host_listings_count_shared_rooms reviews_per_month  \n",
       "0                                           0              0.05  \n",
       "1                                           0              0.58  \n",
       "2                                           0              0.28  \n",
       "3                                           0              1.36  \n",
       "4                                           0              1.54  \n",
       "\n",
       "[5 rows x 79 columns]"
      ]
     },
     "execution_count": 3,
     "metadata": {},
     "output_type": "execute_result"
    }
   ],
   "source": [
    "listings.head()"
   ]
  },
  {
   "cell_type": "code",
   "execution_count": 4,
   "metadata": {},
   "outputs": [
    {
     "data": {
      "application/vnd.microsoft.datawrangler.viewer.v0+json": {
       "columns": [
        {
         "name": "index",
         "rawType": "int64",
         "type": "integer"
        },
        {
         "name": "listing_id",
         "rawType": "Int64",
         "type": "integer"
        },
        {
         "name": "date",
         "rawType": "object",
         "type": "string"
        },
        {
         "name": "available",
         "rawType": "object",
         "type": "string"
        },
        {
         "name": "price",
         "rawType": "object",
         "type": "string"
        },
        {
         "name": "adjusted_price",
         "rawType": "object",
         "type": "unknown"
        },
        {
         "name": "minimum_nights",
         "rawType": "Int64",
         "type": "integer"
        },
        {
         "name": "maximum_nights",
         "rawType": "Int64",
         "type": "integer"
        }
       ],
       "conversionMethod": "pd.DataFrame",
       "ref": "1f4ac8e6-5453-429b-9cc8-17234968481c",
       "rows": [
        [
         "0",
         "2595",
         "2025-03-03",
         "t",
         "$225.00",
         null,
         "30",
         "1125"
        ],
        [
         "1",
         "2595",
         "2025-03-04",
         "t",
         "$225.00",
         null,
         "30",
         "1125"
        ],
        [
         "2",
         "2595",
         "2025-03-05",
         "t",
         "$225.00",
         null,
         "30",
         "1125"
        ],
        [
         "3",
         "2595",
         "2025-03-06",
         "t",
         "$225.00",
         null,
         "30",
         "1125"
        ],
        [
         "4",
         "2595",
         "2025-03-07",
         "t",
         "$225.00",
         null,
         "30",
         "1125"
        ]
       ],
       "shape": {
        "columns": 7,
        "rows": 5
       }
      },
      "text/html": [
       "<div>\n",
       "<style scoped>\n",
       "    .dataframe tbody tr th:only-of-type {\n",
       "        vertical-align: middle;\n",
       "    }\n",
       "\n",
       "    .dataframe tbody tr th {\n",
       "        vertical-align: top;\n",
       "    }\n",
       "\n",
       "    .dataframe thead th {\n",
       "        text-align: right;\n",
       "    }\n",
       "</style>\n",
       "<table border=\"1\" class=\"dataframe\">\n",
       "  <thead>\n",
       "    <tr style=\"text-align: right;\">\n",
       "      <th></th>\n",
       "      <th>listing_id</th>\n",
       "      <th>date</th>\n",
       "      <th>available</th>\n",
       "      <th>price</th>\n",
       "      <th>adjusted_price</th>\n",
       "      <th>minimum_nights</th>\n",
       "      <th>maximum_nights</th>\n",
       "    </tr>\n",
       "  </thead>\n",
       "  <tbody>\n",
       "    <tr>\n",
       "      <th>0</th>\n",
       "      <td>2595</td>\n",
       "      <td>2025-03-03</td>\n",
       "      <td>t</td>\n",
       "      <td>$225.00</td>\n",
       "      <td>NaN</td>\n",
       "      <td>30</td>\n",
       "      <td>1125</td>\n",
       "    </tr>\n",
       "    <tr>\n",
       "      <th>1</th>\n",
       "      <td>2595</td>\n",
       "      <td>2025-03-04</td>\n",
       "      <td>t</td>\n",
       "      <td>$225.00</td>\n",
       "      <td>NaN</td>\n",
       "      <td>30</td>\n",
       "      <td>1125</td>\n",
       "    </tr>\n",
       "    <tr>\n",
       "      <th>2</th>\n",
       "      <td>2595</td>\n",
       "      <td>2025-03-05</td>\n",
       "      <td>t</td>\n",
       "      <td>$225.00</td>\n",
       "      <td>NaN</td>\n",
       "      <td>30</td>\n",
       "      <td>1125</td>\n",
       "    </tr>\n",
       "    <tr>\n",
       "      <th>3</th>\n",
       "      <td>2595</td>\n",
       "      <td>2025-03-06</td>\n",
       "      <td>t</td>\n",
       "      <td>$225.00</td>\n",
       "      <td>NaN</td>\n",
       "      <td>30</td>\n",
       "      <td>1125</td>\n",
       "    </tr>\n",
       "    <tr>\n",
       "      <th>4</th>\n",
       "      <td>2595</td>\n",
       "      <td>2025-03-07</td>\n",
       "      <td>t</td>\n",
       "      <td>$225.00</td>\n",
       "      <td>NaN</td>\n",
       "      <td>30</td>\n",
       "      <td>1125</td>\n",
       "    </tr>\n",
       "  </tbody>\n",
       "</table>\n",
       "</div>"
      ],
      "text/plain": [
       "   listing_id        date available    price adjusted_price  minimum_nights  \\\n",
       "0        2595  2025-03-03         t  $225.00            NaN              30   \n",
       "1        2595  2025-03-04         t  $225.00            NaN              30   \n",
       "2        2595  2025-03-05         t  $225.00            NaN              30   \n",
       "3        2595  2025-03-06         t  $225.00            NaN              30   \n",
       "4        2595  2025-03-07         t  $225.00            NaN              30   \n",
       "\n",
       "   maximum_nights  \n",
       "0            1125  \n",
       "1            1125  \n",
       "2            1125  \n",
       "3            1125  \n",
       "4            1125  "
      ]
     },
     "execution_count": 4,
     "metadata": {},
     "output_type": "execute_result"
    }
   ],
   "source": [
    "calendar.head()"
   ]
  },
  {
   "cell_type": "code",
   "execution_count": 5,
   "metadata": {},
   "outputs": [
    {
     "data": {
      "application/vnd.microsoft.datawrangler.viewer.v0+json": {
       "columns": [
        {
         "name": "index",
         "rawType": "int64",
         "type": "integer"
        },
        {
         "name": "id",
         "rawType": "int64",
         "type": "integer"
        },
        {
         "name": "name",
         "rawType": "object",
         "type": "string"
        },
        {
         "name": "host_id",
         "rawType": "int64",
         "type": "integer"
        },
        {
         "name": "host_name",
         "rawType": "object",
         "type": "string"
        },
        {
         "name": "neighbourhood_group",
         "rawType": "object",
         "type": "string"
        },
        {
         "name": "neighbourhood",
         "rawType": "object",
         "type": "string"
        },
        {
         "name": "latitude",
         "rawType": "float64",
         "type": "float"
        },
        {
         "name": "longitude",
         "rawType": "float64",
         "type": "float"
        },
        {
         "name": "room_type",
         "rawType": "object",
         "type": "string"
        },
        {
         "name": "price",
         "rawType": "int64",
         "type": "integer"
        },
        {
         "name": "minimum_nights",
         "rawType": "int64",
         "type": "integer"
        },
        {
         "name": "number_of_reviews",
         "rawType": "int64",
         "type": "integer"
        },
        {
         "name": "last_review",
         "rawType": "object",
         "type": "unknown"
        },
        {
         "name": "reviews_per_month",
         "rawType": "float64",
         "type": "float"
        },
        {
         "name": "calculated_host_listings_count",
         "rawType": "int64",
         "type": "integer"
        },
        {
         "name": "availability_365",
         "rawType": "int64",
         "type": "integer"
        }
       ],
       "conversionMethod": "pd.DataFrame",
       "ref": "91dada2f-349d-4590-a173-4b061a20e48b",
       "rows": [
        [
         "0",
         "2539",
         "Clean & quiet apt home by the park",
         "2787",
         "John",
         "Brooklyn",
         "Kensington",
         "40.64749",
         "-73.97237",
         "Private room",
         "149",
         "1",
         "9",
         "2018-10-19",
         "0.21",
         "6",
         "365"
        ],
        [
         "1",
         "2595",
         "Skylit Midtown Castle",
         "2845",
         "Jennifer",
         "Manhattan",
         "Midtown",
         "40.75362",
         "-73.98377",
         "Entire home/apt",
         "225",
         "1",
         "45",
         "2019-05-21",
         "0.38",
         "2",
         "355"
        ],
        [
         "2",
         "3647",
         "THE VILLAGE OF HARLEM....NEW YORK !",
         "4632",
         "Elisabeth",
         "Manhattan",
         "Harlem",
         "40.80902",
         "-73.9419",
         "Private room",
         "150",
         "3",
         "0",
         null,
         null,
         "1",
         "365"
        ],
        [
         "3",
         "3831",
         "Cozy Entire Floor of Brownstone",
         "4869",
         "LisaRoxanne",
         "Brooklyn",
         "Clinton Hill",
         "40.68514",
         "-73.95976",
         "Entire home/apt",
         "89",
         "1",
         "270",
         "2019-07-05",
         "4.64",
         "1",
         "194"
        ],
        [
         "4",
         "5022",
         "Entire Apt: Spacious Studio/Loft by central park",
         "7192",
         "Laura",
         "Manhattan",
         "East Harlem",
         "40.79851",
         "-73.94399",
         "Entire home/apt",
         "80",
         "10",
         "9",
         "2018-11-19",
         "0.1",
         "1",
         "0"
        ]
       ],
       "shape": {
        "columns": 16,
        "rows": 5
       }
      },
      "text/html": [
       "<div>\n",
       "<style scoped>\n",
       "    .dataframe tbody tr th:only-of-type {\n",
       "        vertical-align: middle;\n",
       "    }\n",
       "\n",
       "    .dataframe tbody tr th {\n",
       "        vertical-align: top;\n",
       "    }\n",
       "\n",
       "    .dataframe thead th {\n",
       "        text-align: right;\n",
       "    }\n",
       "</style>\n",
       "<table border=\"1\" class=\"dataframe\">\n",
       "  <thead>\n",
       "    <tr style=\"text-align: right;\">\n",
       "      <th></th>\n",
       "      <th>id</th>\n",
       "      <th>name</th>\n",
       "      <th>host_id</th>\n",
       "      <th>host_name</th>\n",
       "      <th>neighbourhood_group</th>\n",
       "      <th>neighbourhood</th>\n",
       "      <th>latitude</th>\n",
       "      <th>longitude</th>\n",
       "      <th>room_type</th>\n",
       "      <th>price</th>\n",
       "      <th>minimum_nights</th>\n",
       "      <th>number_of_reviews</th>\n",
       "      <th>last_review</th>\n",
       "      <th>reviews_per_month</th>\n",
       "      <th>calculated_host_listings_count</th>\n",
       "      <th>availability_365</th>\n",
       "    </tr>\n",
       "  </thead>\n",
       "  <tbody>\n",
       "    <tr>\n",
       "      <th>0</th>\n",
       "      <td>2539</td>\n",
       "      <td>Clean &amp; quiet apt home by the park</td>\n",
       "      <td>2787</td>\n",
       "      <td>John</td>\n",
       "      <td>Brooklyn</td>\n",
       "      <td>Kensington</td>\n",
       "      <td>40.64749</td>\n",
       "      <td>-73.97237</td>\n",
       "      <td>Private room</td>\n",
       "      <td>149</td>\n",
       "      <td>1</td>\n",
       "      <td>9</td>\n",
       "      <td>2018-10-19</td>\n",
       "      <td>0.21</td>\n",
       "      <td>6</td>\n",
       "      <td>365</td>\n",
       "    </tr>\n",
       "    <tr>\n",
       "      <th>1</th>\n",
       "      <td>2595</td>\n",
       "      <td>Skylit Midtown Castle</td>\n",
       "      <td>2845</td>\n",
       "      <td>Jennifer</td>\n",
       "      <td>Manhattan</td>\n",
       "      <td>Midtown</td>\n",
       "      <td>40.75362</td>\n",
       "      <td>-73.98377</td>\n",
       "      <td>Entire home/apt</td>\n",
       "      <td>225</td>\n",
       "      <td>1</td>\n",
       "      <td>45</td>\n",
       "      <td>2019-05-21</td>\n",
       "      <td>0.38</td>\n",
       "      <td>2</td>\n",
       "      <td>355</td>\n",
       "    </tr>\n",
       "    <tr>\n",
       "      <th>2</th>\n",
       "      <td>3647</td>\n",
       "      <td>THE VILLAGE OF HARLEM....NEW YORK !</td>\n",
       "      <td>4632</td>\n",
       "      <td>Elisabeth</td>\n",
       "      <td>Manhattan</td>\n",
       "      <td>Harlem</td>\n",
       "      <td>40.80902</td>\n",
       "      <td>-73.94190</td>\n",
       "      <td>Private room</td>\n",
       "      <td>150</td>\n",
       "      <td>3</td>\n",
       "      <td>0</td>\n",
       "      <td>NaN</td>\n",
       "      <td>NaN</td>\n",
       "      <td>1</td>\n",
       "      <td>365</td>\n",
       "    </tr>\n",
       "    <tr>\n",
       "      <th>3</th>\n",
       "      <td>3831</td>\n",
       "      <td>Cozy Entire Floor of Brownstone</td>\n",
       "      <td>4869</td>\n",
       "      <td>LisaRoxanne</td>\n",
       "      <td>Brooklyn</td>\n",
       "      <td>Clinton Hill</td>\n",
       "      <td>40.68514</td>\n",
       "      <td>-73.95976</td>\n",
       "      <td>Entire home/apt</td>\n",
       "      <td>89</td>\n",
       "      <td>1</td>\n",
       "      <td>270</td>\n",
       "      <td>2019-07-05</td>\n",
       "      <td>4.64</td>\n",
       "      <td>1</td>\n",
       "      <td>194</td>\n",
       "    </tr>\n",
       "    <tr>\n",
       "      <th>4</th>\n",
       "      <td>5022</td>\n",
       "      <td>Entire Apt: Spacious Studio/Loft by central park</td>\n",
       "      <td>7192</td>\n",
       "      <td>Laura</td>\n",
       "      <td>Manhattan</td>\n",
       "      <td>East Harlem</td>\n",
       "      <td>40.79851</td>\n",
       "      <td>-73.94399</td>\n",
       "      <td>Entire home/apt</td>\n",
       "      <td>80</td>\n",
       "      <td>10</td>\n",
       "      <td>9</td>\n",
       "      <td>2018-11-19</td>\n",
       "      <td>0.10</td>\n",
       "      <td>1</td>\n",
       "      <td>0</td>\n",
       "    </tr>\n",
       "  </tbody>\n",
       "</table>\n",
       "</div>"
      ],
      "text/plain": [
       "     id                                              name  host_id  \\\n",
       "0  2539                Clean & quiet apt home by the park     2787   \n",
       "1  2595                             Skylit Midtown Castle     2845   \n",
       "2  3647               THE VILLAGE OF HARLEM....NEW YORK !     4632   \n",
       "3  3831                   Cozy Entire Floor of Brownstone     4869   \n",
       "4  5022  Entire Apt: Spacious Studio/Loft by central park     7192   \n",
       "\n",
       "     host_name neighbourhood_group neighbourhood  latitude  longitude  \\\n",
       "0         John            Brooklyn    Kensington  40.64749  -73.97237   \n",
       "1     Jennifer           Manhattan       Midtown  40.75362  -73.98377   \n",
       "2    Elisabeth           Manhattan        Harlem  40.80902  -73.94190   \n",
       "3  LisaRoxanne            Brooklyn  Clinton Hill  40.68514  -73.95976   \n",
       "4        Laura           Manhattan   East Harlem  40.79851  -73.94399   \n",
       "\n",
       "         room_type  price  minimum_nights  number_of_reviews last_review  \\\n",
       "0     Private room    149               1                  9  2018-10-19   \n",
       "1  Entire home/apt    225               1                 45  2019-05-21   \n",
       "2     Private room    150               3                  0         NaN   \n",
       "3  Entire home/apt     89               1                270  2019-07-05   \n",
       "4  Entire home/apt     80              10                  9  2018-11-19   \n",
       "\n",
       "   reviews_per_month  calculated_host_listings_count  availability_365  \n",
       "0               0.21                               6               365  \n",
       "1               0.38                               2               355  \n",
       "2                NaN                               1               365  \n",
       "3               4.64                               1               194  \n",
       "4               0.10                               1                 0  "
      ]
     },
     "execution_count": 5,
     "metadata": {},
     "output_type": "execute_result"
    }
   ],
   "source": [
    "nyc_2019.head()"
   ]
  },
  {
   "cell_type": "code",
   "execution_count": null,
   "metadata": {},
   "outputs": [
    {
     "name": "stdout",
     "output_type": "stream",
     "text": [
      "Calendar Data Types:\n",
      "listing_id         Int64\n",
      "date              object\n",
      "available         object\n",
      "price             object\n",
      "adjusted_price    object\n",
      "minimum_nights     Int64\n",
      "maximum_nights     Int64\n",
      "dtype: object\n",
      "\n",
      "Missing Values in Calendar:\n",
      "minimum_nights    3\n",
      "maximum_nights    3\n",
      "dtype: int64\n"
     ]
    }
   ],
   "source": [
    "# Check data types of calendar\n",
    "print(\"Calendar Data Types:\")\n",
    "print(calendar.dtypes)\n",
    "\n",
    "# Check for missing values\n",
    "print(\"\\nMissing Values in Calendar:\")\n",
    "print(calendar[['minimum_nights', 'maximum_nights']].isnull().sum())"
   ]
  },
  {
   "cell_type": "markdown",
   "metadata": {},
   "source": [
    "#### Exploring the Data\n",
    "Let’s inspect the structure of both datasets to understand the available columns."
   ]
  },
  {
   "cell_type": "code",
   "execution_count": null,
   "metadata": {},
   "outputs": [
    {
     "name": "stdout",
     "output_type": "stream",
     "text": [
      "Listings Data (Inside Airbnb):\n",
      "      id                         listing_url       scrape_id last_scraped  \\\n",
      "0  36121  https://www.airbnb.com/rooms/36121  20250301213336   2025-03-03   \n",
      "1  36647  https://www.airbnb.com/rooms/36647  20250301213336   2025-03-03   \n",
      "2  38663  https://www.airbnb.com/rooms/38663  20250301213336   2025-03-02   \n",
      "3  38833  https://www.airbnb.com/rooms/38833  20250301213336   2025-03-03   \n",
      "4  39282  https://www.airbnb.com/rooms/39282  20250301213336   2025-03-02   \n",
      "\n",
      "        source                                               name  \\\n",
      "0  city scrape                 Lg Rm in Historic Prospect Heights   \n",
      "1  city scrape  1 Bedroom & your own Bathroom, Elevator Apartment   \n",
      "2  city scrape                   Luxury Brownstone in Boerum Hill   \n",
      "3  city scrape                 Spectacular West Harlem Garden Apt   \n",
      "4  city scrape                    “Work-from-home” from OUR home.   \n",
      "\n",
      "                                         description  \\\n",
      "0  Cozy space share in the heart of a great neigh...   \n",
      "1  Private bedroom with your own bathroom in a 2 ...   \n",
      "2  Beautiful, large home in great hipster neighbo...   \n",
      "3  This is a very large and unique  space. An inc...   \n",
      "4  *Monthly Discount will automatically apply <br...   \n",
      "\n",
      "                               neighborhood_overview  \\\n",
      "0  Full of tree-lined streets and beautiful brown...   \n",
      "1   Manhattan, SE corner of 2nd Ave/ E. 110th street   \n",
      "2  diverse, lively, hip, cool: loaded with restau...   \n",
      "3  West Harlem is now packed with great restauran...   \n",
      "4  THE NEIGHBORHOOD:<br />Our apartment is locate...   \n",
      "\n",
      "                                         picture_url  host_id  ...  \\\n",
      "0  https://a0.muscache.com/pictures/8776354/35b32...    62165  ...   \n",
      "1  https://a0.muscache.com/pictures/miso/Hosting-...   157798  ...   \n",
      "2  https://a0.muscache.com/pictures/miso/Hosting-...   165789  ...   \n",
      "3  https://a0.muscache.com/pictures/7554f9e5-4ab0...   166532  ...   \n",
      "4  https://a0.muscache.com/pictures/ef8f43ad-d967...   168525  ...   \n",
      "\n",
      "  review_scores_communication review_scores_location review_scores_value  \\\n",
      "0                        5.00                   5.00                5.00   \n",
      "1                        4.90                   4.38                4.71   \n",
      "2                        4.88                   4.86                4.62   \n",
      "3                        4.96                   4.79                4.82   \n",
      "4                        4.88                   4.85                4.78   \n",
      "\n",
      "              license instant_bookable calculated_host_listings_count  \\\n",
      "0                 NaN                f                              1   \n",
      "1                 NaN                f                              1   \n",
      "2  OSE-STRREG-0001784                f                              1   \n",
      "3  OSE-STRREG-0000476                f                              1   \n",
      "4  OSE-STRREG-0001150                f                              2   \n",
      "\n",
      "  calculated_host_listings_count_entire_homes  \\\n",
      "0                                           0   \n",
      "1                                           0   \n",
      "2                                           0   \n",
      "3                                           1   \n",
      "4                                           0   \n",
      "\n",
      "  calculated_host_listings_count_private_rooms  \\\n",
      "0                                            1   \n",
      "1                                            1   \n",
      "2                                            1   \n",
      "3                                            0   \n",
      "4                                            2   \n",
      "\n",
      "  calculated_host_listings_count_shared_rooms reviews_per_month  \n",
      "0                                           0              0.05  \n",
      "1                                           0              0.58  \n",
      "2                                           0              0.28  \n",
      "3                                           0              1.36  \n",
      "4                                           0              1.54  \n",
      "\n",
      "[5 rows x 79 columns]\n",
      "\n",
      "Listings Columns (Inside Airbnb):\n",
      "Index(['id', 'listing_url', 'scrape_id', 'last_scraped', 'source', 'name',\n",
      "       'description', 'neighborhood_overview', 'picture_url', 'host_id',\n",
      "       'host_url', 'host_name', 'host_since', 'host_location', 'host_about',\n",
      "       'host_response_time', 'host_response_rate', 'host_acceptance_rate',\n",
      "       'host_is_superhost', 'host_thumbnail_url', 'host_picture_url',\n",
      "       'host_neighbourhood', 'host_listings_count',\n",
      "       'host_total_listings_count', 'host_verifications',\n",
      "       'host_has_profile_pic', 'host_identity_verified', 'neighbourhood',\n",
      "       'neighbourhood_cleansed', 'neighbourhood_group_cleansed', 'latitude',\n",
      "       'longitude', 'property_type', 'room_type', 'accommodates', 'bathrooms',\n",
      "       'bathrooms_text', 'bedrooms', 'beds', 'amenities', 'price',\n",
      "       'minimum_nights', 'maximum_nights', 'minimum_minimum_nights',\n",
      "       'maximum_minimum_nights', 'minimum_maximum_nights',\n",
      "       'maximum_maximum_nights', 'minimum_nights_avg_ntm',\n",
      "       'maximum_nights_avg_ntm', 'calendar_updated', 'has_availability',\n",
      "       'availability_30', 'availability_60', 'availability_90',\n",
      "       'availability_365', 'calendar_last_scraped', 'number_of_reviews',\n",
      "       'number_of_reviews_ltm', 'number_of_reviews_l30d', 'availability_eoy',\n",
      "       'number_of_reviews_ly', 'estimated_occupancy_l365d',\n",
      "       'estimated_revenue_l365d', 'first_review', 'last_review',\n",
      "       'review_scores_rating', 'review_scores_accuracy',\n",
      "       'review_scores_cleanliness', 'review_scores_checkin',\n",
      "       'review_scores_communication', 'review_scores_location',\n",
      "       'review_scores_value', 'license', 'instant_bookable',\n",
      "       'calculated_host_listings_count',\n",
      "       'calculated_host_listings_count_entire_homes',\n",
      "       'calculated_host_listings_count_private_rooms',\n",
      "       'calculated_host_listings_count_shared_rooms', 'reviews_per_month'],\n",
      "      dtype='object')\n",
      "\n",
      "Calendar Data:\n",
      "   listing_id        date available    price adjusted_price  minimum_nights  \\\n",
      "0        2595  2025-03-03         t  $225.00            NaN              30   \n",
      "1        2595  2025-03-04         t  $225.00            NaN              30   \n",
      "2        2595  2025-03-05         t  $225.00            NaN              30   \n",
      "3        2595  2025-03-06         t  $225.00            NaN              30   \n",
      "4        2595  2025-03-07         t  $225.00            NaN              30   \n",
      "\n",
      "   maximum_nights  \n",
      "0            1125  \n",
      "1            1125  \n",
      "2            1125  \n",
      "3            1125  \n",
      "4            1125  \n",
      "\n",
      "Calendar Columns:\n",
      "Index(['listing_id', 'date', 'available', 'price', 'adjusted_price',\n",
      "       'minimum_nights', 'maximum_nights'],\n",
      "      dtype='object')\n",
      "\n",
      "AB_NYC_2019 Data (Kaggle):\n",
      "     id                                              name  host_id  \\\n",
      "0  2539                Clean & quiet apt home by the park     2787   \n",
      "1  2595                             Skylit Midtown Castle     2845   \n",
      "2  3647               THE VILLAGE OF HARLEM....NEW YORK !     4632   \n",
      "3  3831                   Cozy Entire Floor of Brownstone     4869   \n",
      "4  5022  Entire Apt: Spacious Studio/Loft by central park     7192   \n",
      "\n",
      "     host_name neighbourhood_group neighbourhood  latitude  longitude  \\\n",
      "0         John            Brooklyn    Kensington  40.64749  -73.97237   \n",
      "1     Jennifer           Manhattan       Midtown  40.75362  -73.98377   \n",
      "2    Elisabeth           Manhattan        Harlem  40.80902  -73.94190   \n",
      "3  LisaRoxanne            Brooklyn  Clinton Hill  40.68514  -73.95976   \n",
      "4        Laura           Manhattan   East Harlem  40.79851  -73.94399   \n",
      "\n",
      "         room_type  price  minimum_nights  number_of_reviews last_review  \\\n",
      "0     Private room    149               1                  9  2018-10-19   \n",
      "1  Entire home/apt    225               1                 45  2019-05-21   \n",
      "2     Private room    150               3                  0         NaN   \n",
      "3  Entire home/apt     89               1                270  2019-07-05   \n",
      "4  Entire home/apt     80              10                  9  2018-11-19   \n",
      "\n",
      "   reviews_per_month  calculated_host_listings_count  availability_365  \n",
      "0               0.21                               6               365  \n",
      "1               0.38                               2               355  \n",
      "2                NaN                               1               365  \n",
      "3               4.64                               1               194  \n",
      "4               0.10                               1                 0  \n",
      "\n",
      "AB_NYC_2019 Columns (Kaggle):\n",
      "Index(['id', 'name', 'host_id', 'host_name', 'neighbourhood_group',\n",
      "       'neighbourhood', 'latitude', 'longitude', 'room_type', 'price',\n",
      "       'minimum_nights', 'number_of_reviews', 'last_review',\n",
      "       'reviews_per_month', 'calculated_host_listings_count',\n",
      "       'availability_365'],\n",
      "      dtype='object')\n",
      "\n",
      "Reviews Data:\n",
      "   listing_id     id        date  reviewer_id reviewer_name  \\\n",
      "0        2595  17857  2009-11-21        50679          Jean   \n",
      "1        2595  19176  2009-12-05        53267          Cate   \n",
      "2        2595  19760  2009-12-10        38960         Anita   \n",
      "3        2595  34320  2010-04-09        71130       Kai-Uwe   \n",
      "4        2595  46312  2010-05-25       117113        Alicia   \n",
      "\n",
      "                                            comments  \n",
      "0  Notre séjour de trois nuits.\\r<br/>Nous avons ...  \n",
      "1                                  Great experience.  \n",
      "2  I've stayed with my friend at the Midtown Cast...  \n",
      "3  We've been staying here for about 9 nights, en...  \n",
      "4  We had a wonderful stay at Jennifer's charming...  \n",
      "\n",
      "Reviews Columns:\n",
      "Index(['listing_id', 'id', 'date', 'reviewer_id', 'reviewer_name', 'comments'], dtype='object')\n"
     ]
    }
   ],
   "source": [
    "# Display the first few rows of listings\n",
    "print(\"Listings Data (Inside Airbnb):\")\n",
    "print(listings.head())\n",
    "\n",
    "# Display listings column names\n",
    "print(\"\\nListings Columns (Inside Airbnb):\")\n",
    "print(listings.columns)\n",
    "\n",
    "# Display the first few rows of calendar\n",
    "print(\"\\nCalendar Data:\")\n",
    "print(calendar.head())\n",
    "\n",
    "# Display calendar column names\n",
    "print(\"\\nCalendar Columns:\")\n",
    "print(calendar.columns)\n",
    "\n",
    "# Display the first few rows of AB_NYC_2019\n",
    "print(\"\\nAB_NYC_2019 Data (Kaggle):\")\n",
    "print(nyc_2019.head())\n",
    "\n",
    "# Display AB_NYC_2019 column names\n",
    "print(\"\\nAB_NYC_2019 Columns (Kaggle):\")\n",
    "print(nyc_2019.columns)"
   ]
  },
  {
   "cell_type": "markdown",
   "metadata": {},
   "source": [
    "#### Cleaning the Listings Data\n",
    "We need to handle missing values and ensure data types are correct. The price column, for instance, may include dollar signs and commas, requiring conversion to a numeric format."
   ]
  },
  {
   "cell_type": "code",
   "execution_count": null,
   "metadata": {},
   "outputs": [
    {
     "name": "stdout",
     "output_type": "stream",
     "text": [
      "Missing Values in Listings:\n",
      "id                                                  0\n",
      "listing_url                                         0\n",
      "scrape_id                                           0\n",
      "last_scraped                                        0\n",
      "source                                              0\n",
      "                                                ...  \n",
      "calculated_host_listings_count                      0\n",
      "calculated_host_listings_count_entire_homes         0\n",
      "calculated_host_listings_count_private_rooms        0\n",
      "calculated_host_listings_count_shared_rooms         0\n",
      "reviews_per_month                               11787\n",
      "Length: 79, dtype: int64\n",
      "\n",
      "Listings Data Types:\n",
      "id                                                int64\n",
      "listing_url                                      object\n",
      "scrape_id                                         int64\n",
      "last_scraped                                     object\n",
      "source                                           object\n",
      "                                                 ...   \n",
      "calculated_host_listings_count                    int64\n",
      "calculated_host_listings_count_entire_homes       int64\n",
      "calculated_host_listings_count_private_rooms      int64\n",
      "calculated_host_listings_count_shared_rooms       int64\n",
      "reviews_per_month                               float64\n",
      "Length: 79, dtype: object\n"
     ]
    },
    {
     "name": "stderr",
     "output_type": "stream",
     "text": [
      "<>:6: SyntaxWarning: invalid escape sequence '\\$'\n",
      "<>:6: SyntaxWarning: invalid escape sequence '\\$'\n",
      "C:\\Users\\adub0\\AppData\\Local\\Temp\\ipykernel_18884\\3243225745.py:6: SyntaxWarning: invalid escape sequence '\\$'\n",
      "  listings['price'] = listings['price'].replace('[\\$,]', '', regex=True).astype(float)\n"
     ]
    }
   ],
   "source": [
    "# Check for missing values in listings\n",
    "print(\"Missing Values in Listings:\")\n",
    "print(listings.isnull().sum())\n",
    "\n",
    "# Remove dollar signs and commas\n",
    "listings['price'] = listings['price'].replace('[\\$,]', '', regex=True).astype(float)\n",
    "\n",
    "print(\"\\nListings Data Types:\")\n",
    "print(listings.dtypes)"
   ]
  },
  {
   "cell_type": "markdown",
   "metadata": {},
   "source": [
    "For simplicity, we’ll drop rows with missing price values, as they are critical for our analysis."
   ]
  },
  {
   "cell_type": "code",
   "execution_count": 9,
   "metadata": {},
   "outputs": [],
   "source": [
    "# Drop rows with missing price in listings\n",
    "listings = listings.dropna(subset=['price'])\n",
    "\n",
    "# Drop rows with missing price in AB_NYC_2019\n",
    "nyc_2019 = nyc_2019.dropna(subset=['price'])"
   ]
  },
  {
   "cell_type": "markdown",
   "metadata": {},
   "source": [
    "#### Cleaning the Calendar Data\n",
    "The calendar data requires similar preprocessing, including converting the price and date columns."
   ]
  },
  {
   "cell_type": "code",
   "execution_count": null,
   "metadata": {},
   "outputs": [],
   "source": [
    "# Convert price and adjusted_price to float\n",
    "calendar['price'] = calendar['price'].replace(r'[\\$,]', '', regex=True).astype(float)\n",
    "calendar['adjusted_price'] = calendar['adjusted_price'].replace(r'[\\$,]', '', regex=True).fillna(0).astype(float)\n",
    "\n",
    "# Convert date to datetime\n",
    "calendar['date'] = pd.to_datetime(calendar['date'])\n",
    "\n",
    "# Add a 'booked' column (1 if not available, 0 if available)\n",
    "calendar['booked'] = calendar['available'].apply(lambda x: 1 if x == 'f' else 0)"
   ]
  },
  {
   "cell_type": "markdown",
   "metadata": {},
   "source": [
    "### 2. Price Analysis\n",
    "#### Average Price by Neighborhood\n",
    "We calculate the average rental price by neighborhood using the neighbourhood_cleansed column, which provides standardized neighborhood names.\n",
    "\n",
    "This shows the most expensive neighborhoods, helping hosts and travelers identify high-cost areas."
   ]
  },
  {
   "cell_type": "code",
   "execution_count": 11,
   "metadata": {},
   "outputs": [
    {
     "name": "stdout",
     "output_type": "stream",
     "text": [
      "Average Price by Neighborhood (Inside Airbnb 2025 Data):\n",
      "neighbourhood_cleansed\n",
      "SoHo                 806.086420\n",
      "Battery Park City    753.666667\n",
      "Riverdale            715.666667\n",
      "Navy Yard            621.000000\n",
      "Fort Wadsworth       600.000000\n",
      "Tribeca              586.759259\n",
      "NoHo                 565.833333\n",
      "Longwood             421.800000\n",
      "Flatiron District    415.021739\n",
      "Greenwich Village    408.763158\n",
      "Name: price, dtype: float64\n",
      "\n",
      "Average Price by Neighborhood (Kaggle 2019 Data):\n",
      "neighbourhood\n",
      "Fort Wadsworth       800.000000\n",
      "Woodrow              700.000000\n",
      "Tribeca              490.638418\n",
      "Sea Gate             487.857143\n",
      "Riverdale            442.090909\n",
      "Prince's Bay         409.500000\n",
      "Battery Park City    367.557143\n",
      "Flatiron District    341.925000\n",
      "Randall Manor        336.000000\n",
      "NoHo                 295.717949\n",
      "Name: price, dtype: float64\n"
     ]
    }
   ],
   "source": [
    "# Calculate average price by neighborhood for listings.csv (2025 data)\n",
    "avg_price_by_neighborhood_listings = listings.groupby('neighbourhood_cleansed')['price'].mean().sort_values(ascending=False)\n",
    "print(\"Average Price by Neighborhood (Inside Airbnb 2025 Data):\")\n",
    "print(avg_price_by_neighborhood_listings.head(10))  # Top 10 neighborhoods\n",
    "\n",
    "# Calculate average price by neighborhood for AB_NYC_2019.csv (2019 data)\n",
    "avg_price_by_neighborhood_2019 = nyc_2019.groupby('neighbourhood')['price'].mean().sort_values(ascending=False)\n",
    "print(\"\\nAverage Price by Neighborhood (Kaggle 2019 Data):\")\n",
    "print(avg_price_by_neighborhood_2019.head(10))  # Top 10 neighborhoods"
   ]
  },
  {
   "cell_type": "markdown",
   "metadata": {},
   "source": [
    "### 3. Seasonal Trends\n",
    "#### Peak Booking Periods\n",
    "Since the calendar data reflects future availability (typically 365 days from the scrape date), lower availability suggests higher bookings. We calculate the average availability rate by month as a proxy for seasonal trends.\n",
    "\n",
    "Months with lower availability indicate peak booking periods."
   ]
  },
  {
   "cell_type": "code",
   "execution_count": null,
   "metadata": {},
   "outputs": [
    {
     "name": "stdout",
     "output_type": "stream",
     "text": [
      "Average Availability by Month:\n",
      "month\n",
      "1     0.392592\n",
      "2     0.388239\n",
      "3     0.369401\n",
      "4     0.437695\n",
      "5     0.472683\n",
      "6     0.450781\n",
      "7     0.469290\n",
      "8     0.493700\n",
      "9     0.444224\n",
      "10    0.448429\n",
      "11    0.449823\n",
      "12    0.392696\n",
      "Name: available, dtype: float64\n"
     ]
    }
   ],
   "source": [
    "# Extract month from date\n",
    "calendar['month'] = calendar['date'].dt.month\n",
    "\n",
    "# Calculate average availability by month (By how many days available in a month)\n",
    "availability_by_month = calendar.groupby('month')['available'].apply(lambda x: (x == 't').mean())\n",
    "print(\"Average Availability by Month:\")\n",
    "print(availability_by_month)"
   ]
  },
  {
   "cell_type": "markdown",
   "metadata": {},
   "source": [
    "### 4. Amenity Impact Analysis\n",
    "#### Correlation Between Amenities and Price\n",
    "The amenities column is a string of amenities (e.g., \"{Wi-Fi,Pool}\"). We parse it into dummy variables and compute correlations with price.\n",
    "\n",
    "This identifies amenities associated with higher prices, guiding hosts on value-adding features."
   ]
  },
  {
   "cell_type": "code",
   "execution_count": null,
   "metadata": {},
   "outputs": [
    {
     "name": "stdout",
     "output_type": "stream",
     "text": [
      "Amenities Correlations with Price (Top 10):\n",
      " 55 inch TV                                                  0.222856\n",
      " Hawkins Falls body soap                                     0.222119\n",
      " Sauna                                                       0.207563\n",
      " Paid valet parking on premises                              0.205846\n",
      " Crib                                                        0.163878\n",
      " Resort access]                                              0.157276\n",
      " Building staff                                              0.140431\n",
      "[Housekeeping available from 1:00\\u202fAM to 1:00\\u202fAM    0.128231\n",
      " Elevator                                                    0.123439\n",
      " Gym                                                         0.112423\n",
      "dtype: float64\n"
     ]
    }
   ],
   "source": [
    "# TAKES A LONG TIME TO RUN (2.5 min)\n",
    "\n",
    "# Clean amenities column by removing curly brackets and quotes\n",
    "listings['amenities'] = listings['amenities'].str.replace(r'[{}\"]', '', regex=True)\n",
    "\n",
    "# Dummy variables for amenities\n",
    "amenities_dummies = listings['amenities'].str.get_dummies(sep=',')\n",
    "\n",
    "# Concatenate with listings\n",
    "listings_with_amenities = pd.concat([listings, amenities_dummies], axis=1)\n",
    "\n",
    "# Calculate correlations with price\n",
    "amenities_correlations = listings_with_amenities[amenities_dummies.columns].corrwith(listings_with_amenities['price'])\n",
    "print(\"Amenities Correlations with Price (Top 10):\")\n",
    "print(amenities_correlations.sort_values(ascending=False).head(10))"
   ]
  },
  {
   "cell_type": "markdown",
   "metadata": {},
   "source": [
    "### 5. Property Type Distribution\n",
    "#### Most Common Property Types\n",
    "We examine the distribution of property types and room types to understand the market composition."
   ]
  },
  {
   "cell_type": "code",
   "execution_count": 14,
   "metadata": {},
   "outputs": [
    {
     "name": "stdout",
     "output_type": "stream",
     "text": [
      "Property Type Distribution (Inside Airbnb 2025 Data):\n",
      "property_type\n",
      "Entire rental unit             9648\n",
      "Private room in rental unit    5189\n",
      "Private room in home           1886\n",
      "Entire home                    1059\n",
      "Room in hotel                   814\n",
      "Entire condo                    691\n",
      "Private room in townhouse       622\n",
      "Private room in condo           341\n",
      "Entire townhouse                336\n",
      "Entire loft                     291\n",
      "Name: count, dtype: int64\n",
      "\n",
      "Room Type Distribution (Inside Airbnb 2025 Data):\n",
      "room_type\n",
      "Entire home/apt    12664\n",
      "Private room        9186\n",
      "Hotel room           372\n",
      "Shared room           86\n",
      "Name: count, dtype: int64\n",
      "\n",
      "Room Type Distribution (Kaggle 2019 Data):\n",
      "room_type\n",
      "Entire home/apt    25409\n",
      "Private room       22326\n",
      "Shared room         1160\n",
      "Name: count, dtype: int64\n"
     ]
    }
   ],
   "source": [
    "# Property type distribution (listings.csv, 2025 data)\n",
    "property_type_counts_listings = listings['property_type'].value_counts()\n",
    "print(\"Property Type Distribution (Inside Airbnb 2025 Data):\")\n",
    "print(property_type_counts_listings.head(10))\n",
    "\n",
    "# Room type distribution (listings.csv, 2025 data)\n",
    "room_type_counts_listings = listings['room_type'].value_counts()\n",
    "print(\"\\nRoom Type Distribution (Inside Airbnb 2025 Data):\")\n",
    "print(room_type_counts_listings)\n",
    "\n",
    "# Property type distribution (AB_NYC_2019.csv, 2019 data)\n",
    "# AB_NYC_2019.csv does not have property_type, only room_type\n",
    "room_type_counts_2019 = nyc_2019['room_type'].value_counts()\n",
    "print(\"\\nRoom Type Distribution (Kaggle 2019 Data):\")\n",
    "print(room_type_counts_2019)"
   ]
  },
  {
   "cell_type": "markdown",
   "metadata": {},
   "source": [
    "### 6. Occupancy Trends\n",
    "#### Using Number of Reviews as a Proxy\n",
    "Since historical occupancy data isn’t available, we use number_of_reviews as a proxy for past occupancy, assuming more reviews indicate more bookings."
   ]
  },
  {
   "cell_type": "code",
   "execution_count": null,
   "metadata": {},
   "outputs": [
    {
     "name": "stdout",
     "output_type": "stream",
     "text": [
      "Average Number of Reviews by Neighborhood (Top 10, Inside Airbnb 2025 Data):\n",
      "neighbourhood_cleansed\n",
      "Huguenot            292.500000\n",
      "New Dorp Beach      159.666667\n",
      "DUMBO               119.111111\n",
      "Clifton              98.625000\n",
      "Columbia St          89.400000\n",
      "Concourse            89.225806\n",
      "East Elmhurst        83.106870\n",
      "New Brighton         80.100000\n",
      "Manhattan Beach      73.800000\n",
      "South Ozone Park     73.148148\n",
      "Name: number_of_reviews, dtype: float64\n",
      "\n",
      "Correlation between Price and Number of Reviews (Inside Airbnb 2025 Data): -0.05174178368150182\n"
     ]
    },
    {
     "name": "stderr",
     "output_type": "stream",
     "text": [
      "<>:7: SyntaxWarning: invalid escape sequence '\\$'\n",
      "<>:7: SyntaxWarning: invalid escape sequence '\\$'\n",
      "C:\\Users\\adub0\\AppData\\Local\\Temp\\ipykernel_18884\\1506797186.py:7: SyntaxWarning: invalid escape sequence '\\$'\n",
      "  listings['price'] = pd.to_numeric(listings['price'].replace('[\\$,]', '', regex=True), errors='coerce')\n"
     ]
    }
   ],
   "source": [
    "# Average number of reviews by neighborhood (using listings.csv)\n",
    "avg_reviews_by_neighborhood = listings.groupby('neighbourhood_cleansed')['number_of_reviews'].mean().sort_values(ascending=False)\n",
    "print(\"Average Number of Reviews by Neighborhood (Top 10, Inside Airbnb 2025 Data):\")\n",
    "print(avg_reviews_by_neighborhood.head(10))\n",
    "\n",
    "# Clean price column\n",
    "listings['price'] = pd.to_numeric(listings['price'].replace('[\\$,]', '', regex=True), errors='coerce')\n",
    "\n",
    "# Correlation between price and number of reviews (using listings.csv)\n",
    "correlation = listings['price'].corr(listings['number_of_reviews'])\n",
    "print(f\"\\nCorrelation between Price and Number of Reviews (Inside Airbnb 2025 Data): {correlation}\")"
   ]
  },
  {
   "cell_type": "markdown",
   "metadata": {},
   "source": [
    "#### Price Bins and Occupancy\n",
    "We bin prices and calculate the average number of reviews per bin to find popular price ranges."
   ]
  },
  {
   "cell_type": "code",
   "execution_count": 17,
   "metadata": {},
   "outputs": [
    {
     "name": "stdout",
     "output_type": "stream",
     "text": [
      "Average Number of Reviews by Price Bin (Inside Airbnb 2025 Data):\n",
      "price_bin\n",
      "0-50        16.926374\n",
      "50-100      39.568563\n",
      "100-150     44.154479\n",
      "150-200     42.241444\n",
      "200-250     37.279279\n",
      "250-300     31.610448\n",
      "300-500     17.423092\n",
      "500-1000    14.537500\n",
      "1000+        9.634146\n",
      "Name: number_of_reviews, dtype: float64\n",
      "\n",
      "Average Number of Reviews by Price Bin (Kaggle 2019 Data):\n",
      "price_bin\n",
      "0-50        19.849008\n",
      "50-100      26.093741\n",
      "100-150     25.767674\n",
      "150-200     23.908300\n",
      "200-250     18.366814\n",
      "250-300     18.414371\n",
      "300-500     15.405966\n",
      "500-1000    12.104348\n",
      "1000+        6.799087\n",
      "Name: number_of_reviews, dtype: float64\n"
     ]
    }
   ],
   "source": [
    "# Bin prices for listings.csv\n",
    "bins = [0, 50, 100, 150, 200, 250, 300, 500, 1000, 5000]\n",
    "labels = ['0-50', '50-100', '100-150', '150-200', '200-250', '250-300', '300-500', '500-1000', '1000+']\n",
    "listings['price_bin'] = pd.cut(listings['price'], bins=bins, labels=labels)\n",
    "\n",
    "# Average reviews by price bin (listings.csv)\n",
    "avg_reviews_by_price = listings.groupby('price_bin', observed=True)['number_of_reviews'].mean()\n",
    "print(\"Average Number of Reviews by Price Bin (Inside Airbnb 2025 Data):\")\n",
    "print(avg_reviews_by_price)\n",
    "\n",
    "# Bin prices for AB_NYC_2019.csv\n",
    "nyc_2019['price_bin'] = pd.cut(nyc_2019['price'], bins=bins, labels=labels)\n",
    "\n",
    "# Average reviews by price bin (AB_NYC_2019.csv)\n",
    "avg_reviews_by_price_2019 = nyc_2019.groupby('price_bin', observed=True)['number_of_reviews'].mean()\n",
    "print(\"\\nAverage Number of Reviews by Price Bin (Kaggle 2019 Data):\")\n",
    "print(avg_reviews_by_price_2019)"
   ]
  },
  {
   "cell_type": "markdown",
   "metadata": {},
   "source": [
    "### 7. Visualization\n",
    "#### Price by Neighborhood\n",
    "A bar chart visualizes average prices across neighborhoods."
   ]
  },
  {
   "cell_type": "code",
   "execution_count": 18,
   "metadata": {},
   "outputs": [
    {
     "data": {
      "image/png": "[encoded data removed]",
      "text/plain": [
       "<Figure size 1200x600 with 1 Axes>"
      ]
     },
     "metadata": {},
     "output_type": "display_data"
    },
    {
     "data": {
      "image/png": "[encoded data removed]",
      "text/plain": [
       "<Figure size 1200x600 with 1 Axes>"
      ]
     },
     "metadata": {},
     "output_type": "display_data"
    }
   ],
   "source": [
    "import matplotlib.pyplot as plt\n",
    "\n",
    "# Plot average price by neighborhood (top 10, listings.csv)\n",
    "avg_price_by_neighborhood_listings.head(10).plot(kind='bar', figsize=(12, 6))\n",
    "plt.title('Average Airbnb Price by Neighborhood in NYC (Top 10, Inside Airbnb 2025 Data)')\n",
    "plt.xlabel('Neighborhood')\n",
    "plt.ylabel('Average Price ($)')\n",
    "plt.show()\n",
    "\n",
    "# Plot average price by neighborhood (top 10, AB_NYC_2019.csv)\n",
    "avg_price_by_neighborhood_2019.head(10).plot(kind='bar', figsize=(12, 6))\n",
    "plt.title('Average Airbnb Price by Neighborhood in NYC (Top 10, Kaggle 2019 Data)')\n",
    "plt.xlabel('Neighborhood')\n",
    "plt.ylabel('Average Price ($)')\n",
    "plt.show()"
   ]
  },
  {
   "cell_type": "markdown",
   "metadata": {},
   "source": [
    "#### Seasonal Availability\n",
    "A line plot shows availability trends over months."
   ]
  },
  {
   "cell_type": "code",
   "execution_count": 19,
   "metadata": {},
   "outputs": [
    {
     "data": {
      "image/png": "[encoded data removed]",
      "text/plain": [
       "<Figure size 640x480 with 1 Axes>"
      ]
     },
     "metadata": {},
     "output_type": "display_data"
    }
   ],
   "source": [
    "# Plot availability by month\n",
    "availability_by_month.plot(kind='line', marker='o')\n",
    "plt.title('Average Availability by Month')\n",
    "plt.xlabel('Month')\n",
    "plt.ylabel('Availability Rate')\n",
    "plt.xticks(range(1, 13))\n",
    "plt.show()"
   ]
  },
  {
   "cell_type": "markdown",
   "metadata": {},
   "source": [
    "#### Price vs. Reviews by Price Bin\n",
    "A bar chart illustrates how occupancy (via reviews) varies with price."
   ]
  },
  {
   "cell_type": "code",
   "execution_count": 20,
   "metadata": {},
   "outputs": [
    {
     "data": {
      "image/png": "[encoded data removed]",
      "text/plain": [
       "<Figure size 640x480 with 1 Axes>"
      ]
     },
     "metadata": {},
     "output_type": "display_data"
    },
    {
     "data": {
      "image/png": "[encoded data removed]",
      "text/plain": [
       "<Figure size 640x480 with 1 Axes>"
      ]
     },
     "metadata": {},
     "output_type": "display_data"
    }
   ],
   "source": [
    "# Plot reviews by price bin (listings.csv)\n",
    "avg_reviews_by_price.plot(kind='bar')\n",
    "plt.title('Average Number of Reviews by Price Bin (Inside Airbnb 2025 Data)')\n",
    "plt.xlabel('Price Bin ($)')\n",
    "plt.ylabel('Average Number of Reviews')\n",
    "plt.show()\n",
    "\n",
    "# Plot reviews by price bin (AB_NYC_2019.csv)\n",
    "avg_reviews_by_price_2019.plot(kind='bar')\n",
    "plt.title('Average Number of Reviews by Price Bin (Kaggle 2019 Data)')\n",
    "plt.xlabel('Price Bin ($)')\n",
    "plt.ylabel('Average Number of Reviews')\n",
    "plt.show()"
   ]
  },
  {
   "cell_type": "markdown",
   "metadata": {},
   "source": [
    "#### Interactive Map\n",
    "Using Folium, we create a map of listings colored by price."
   ]
  },
  {
   "cell_type": "code",
   "execution_count": null,
   "metadata": {},
   "outputs": [],
   "source": [
    "# Takes 40s to run\n",
    "\n",
    "import folium\n",
    "\n",
    "# Create a map centered on NYC\n",
    "nyc_map = folium.Map(location=[40.7128, -74.0060], zoom_start=11)\n",
    "\n",
    "# Add markers\n",
    "for index, row in listings.iterrows():\n",
    "    folium.CircleMarker(\n",
    "        location=[row['latitude'], row['longitude']],\n",
    "        radius=5,\n",
    "        color='red' if row['price'] > 200 else 'blue',\n",
    "        fill=True,\n",
    "        fill_color='red' if row['price'] > 200 else 'blue',\n",
    "        fill_opacity=0.6,\n",
    "        popup=f\"Price: ${row['price']}\"\n",
    "    ).add_to(nyc_map)\n",
    "\n",
    "nyc_map.save('nyc_airbnb_map.html')"
   ]
  },
  {
   "cell_type": "markdown",
   "metadata": {},
   "source": [
    "### 8. Summary of Findings\n",
    "* **Price Variation by Neighborhood:** The top 5 most expensive neighborhoods in 2025 (Inside Airbnb data) are SoHo ($806.09), Battery Park City ($753.67), Riverdale ($715.67), Navy Yard ($621.00), and Fort Wadsworth ($600.00). In 2019 (Kaggle data), the top neighborhoods need to be computed, but affordable areas often include parts of the Bronx.\n",
    "* **Peak Booking Periods:** Months with the lowest availability are March (0.369), February (0.388), and January (0.393), suggesting late winter/early spring as peak demand periods, contrary to the assumption of summer months.\n",
    "* **Amenities and Pricing:** Amenities like \"55 inch TV\" (0.223), \"Hawkins Falls body soap\" (0.222), and \"Sauna\" (0.208) correlate most strongly with higher prices.\n",
    "* **Popular Property Types:** Entire rental units (9,648) dominate, with entire homes/apartments (12,664) and private rooms (9,186) being the most common room types.\n",
    "* **Occupancy Trends:** Listings in the $100-150 range have the highest average reviews (44.15), indicating a popular price point. Temporal trends (from reviews.csv) show review counts over time, indicating booking patterns (visualized in the plot)."
   ]
  },
  {
   "cell_type": "markdown",
   "metadata": {},
   "source": [
    "### 9. Recommendations\n",
    "**For Hosts**\n",
    "* Add high-value amenities like saunas or large TVs (e.g., 55 inch TV), which correlate with higher prices (0.208 and 0.223, respectively).\n",
    "* Increase rates during late winter/early spring (e.g., March, February), when availability is lowest, indicating peak demand.\n",
    "\n",
    "**For Travelers**\n",
    "* Book in more affordable neighborhoods, such as those in the Bronx (to be confirmed with 2019 data), where prices are typically lower.\n",
    "* Travel during late summer (e.g., August, with 0.494 availability), when availability is highest, suggesting lower demand and better deals.\n",
    "\n",
    "**For City Planners**\n",
    "* Monitor neighborhoods with high entire-home listings, such as Manhattan areas (12,664 entire homes/apartments), as they may impact long-term housing availability.\n",
    "* Note that these trends reflect data influenced by NYC’s short-term rental regulations, with a significant number of listings (9,648 entire rental units) potentially affecting housing stock."
   ]
  }
 ],
 "metadata": {
  "kernelspec": {
   "display_name": "Python 3",
   "language": "python",
   "name": "python3"
  },
  "language_info": {
   "codemirror_mode": {
    "name": "ipython",
    "version": 3
   },
   "file_extension": ".py",
   "mimetype": "text/x-python",
   "name": "python",
   "nbconvert_exporter": "python",
   "pygments_lexer": "ipython3",
   "version": "3.12.0"
  }
 },
 "nbformat": 4,
 "nbformat_minor": 2
}
