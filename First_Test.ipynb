{
 "cells": [
  {
   "cell_type": "markdown",
   "metadata": {},
   "source": [
    "# Airbnb Pricing and Occupancy Trends in New York City\n",
    "### Introduction\n",
    "Short-term rental platforms like Airbnb have revolutionized the hospitality industry, offering unique accommodations for travelers and income opportunities for hosts. In this project, we analyze Airbnb pricing and occupancy trends in New York City—a highly active market with diverse price points—to provide actionable insights for hosts, travelers, and city planners. Using data from Inside Airbnb, we will explore price variations, seasonal trends, amenity impacts, property type distributions, and occupancy patterns."
   ]
  },
  {
   "cell_type": "markdown",
   "metadata": {},
   "source": [
    "### 1. Data Preparation & Cleaning\n",
    "#### Loading the Data\n",
    "We start by loading the Airbnb listings and calendar datasets for New York City, sourced from Inside Airbnb. The listings data contains property details, while the calendar data provides availability information.\n",
    "\n"
   ]
  },
  {
   "cell_type": "code",
   "execution_count": 5,
   "metadata": {},
   "outputs": [],
   "source": [
    "import pandas as pd\n",
    "\n",
    "# Define data types for calendar.csv with nullable integers\n",
    "calendar_dtypes = {\n",
    "    'listing_id': 'Int64',  # Also use Int64 here in case of missing listing IDs\n",
    "    'date': str,\n",
    "    'available': str,\n",
    "    'price': str,\n",
    "    'adjusted_price': str,\n",
    "    'minimum_nights': 'Int64',  # Nullable integer to handle NA\n",
    "    'maximum_nights': 'Int64'   # Nullable integer to handle NA\n",
    "}\n",
    "\n",
    "# Load listings and calendar data with specified dtypes\n",
    "listings = pd.read_csv('listings.csv')\n",
    "calendar = pd.read_csv('calendar.csv', dtype=calendar_dtypes)"
   ]
  },
  {
   "cell_type": "code",
   "execution_count": 6,
   "metadata": {},
   "outputs": [
    {
     "name": "stdout",
     "output_type": "stream",
     "text": [
      "Calendar Data Types:\n",
      "listing_id         Int64\n",
      "date              object\n",
      "available         object\n",
      "price             object\n",
      "adjusted_price    object\n",
      "minimum_nights     Int64\n",
      "maximum_nights     Int64\n",
      "dtype: object\n",
      "\n",
      "Missing Values in Calendar:\n",
      "minimum_nights    3\n",
      "maximum_nights    3\n",
      "dtype: int64\n"
     ]
    }
   ],
   "source": [
    "# Check data types of calendar\n",
    "print(\"Calendar Data Types:\")\n",
    "print(calendar.dtypes)\n",
    "\n",
    "# Check for missing values again to confirm handling\n",
    "print(\"\\nMissing Values in Calendar:\")\n",
    "print(calendar[['minimum_nights', 'maximum_nights']].isnull().sum())"
   ]
  },
  {
   "cell_type": "markdown",
   "metadata": {},
   "source": [
    "#### Exploring the Data\n",
    "Let’s inspect the structure of both datasets to understand the available columns."
   ]
  },
  {
   "cell_type": "code",
   "execution_count": 7,
   "metadata": {},
   "outputs": [
    {
     "name": "stdout",
     "output_type": "stream",
     "text": [
      "Listings Data:\n",
      "      id                         listing_url       scrape_id last_scraped  \\\n",
      "0  36121  https://www.airbnb.com/rooms/36121  20250301213336   2025-03-03   \n",
      "1  36647  https://www.airbnb.com/rooms/36647  20250301213336   2025-03-03   \n",
      "2  38663  https://www.airbnb.com/rooms/38663  20250301213336   2025-03-02   \n",
      "3  38833  https://www.airbnb.com/rooms/38833  20250301213336   2025-03-03   \n",
      "4  39282  https://www.airbnb.com/rooms/39282  20250301213336   2025-03-02   \n",
      "\n",
      "        source                                               name  \\\n",
      "0  city scrape                 Lg Rm in Historic Prospect Heights   \n",
      "1  city scrape  1 Bedroom & your own Bathroom, Elevator Apartment   \n",
      "2  city scrape                   Luxury Brownstone in Boerum Hill   \n",
      "3  city scrape                 Spectacular West Harlem Garden Apt   \n",
      "4  city scrape                    “Work-from-home” from OUR home.   \n",
      "\n",
      "                                         description  \\\n",
      "0  Cozy space share in the heart of a great neigh...   \n",
      "1  Private bedroom with your own bathroom in a 2 ...   \n",
      "2  Beautiful, large home in great hipster neighbo...   \n",
      "3  This is a very large and unique  space. An inc...   \n",
      "4  *Monthly Discount will automatically apply <br...   \n",
      "\n",
      "                               neighborhood_overview  \\\n",
      "0  Full of tree-lined streets and beautiful brown...   \n",
      "1   Manhattan, SE corner of 2nd Ave/ E. 110th street   \n",
      "2  diverse, lively, hip, cool: loaded with restau...   \n",
      "3  West Harlem is now packed with great restauran...   \n",
      "4  THE NEIGHBORHOOD:<br />Our apartment is locate...   \n",
      "\n",
      "                                         picture_url  host_id  ...  \\\n",
      "0  https://a0.muscache.com/pictures/8776354/35b32...    62165  ...   \n",
      "1  https://a0.muscache.com/pictures/miso/Hosting-...   157798  ...   \n",
      "2  https://a0.muscache.com/pictures/miso/Hosting-...   165789  ...   \n",
      "3  https://a0.muscache.com/pictures/7554f9e5-4ab0...   166532  ...   \n",
      "4  https://a0.muscache.com/pictures/ef8f43ad-d967...   168525  ...   \n",
      "\n",
      "  review_scores_communication review_scores_location review_scores_value  \\\n",
      "0                        5.00                   5.00                5.00   \n",
      "1                        4.90                   4.38                4.71   \n",
      "2                        4.88                   4.86                4.62   \n",
      "3                        4.96                   4.79                4.82   \n",
      "4                        4.88                   4.85                4.78   \n",
      "\n",
      "              license instant_bookable calculated_host_listings_count  \\\n",
      "0                 NaN                f                              1   \n",
      "1                 NaN                f                              1   \n",
      "2  OSE-STRREG-0001784                f                              1   \n",
      "3  OSE-STRREG-0000476                f                              1   \n",
      "4  OSE-STRREG-0001150                f                              2   \n",
      "\n",
      "  calculated_host_listings_count_entire_homes  \\\n",
      "0                                           0   \n",
      "1                                           0   \n",
      "2                                           0   \n",
      "3                                           1   \n",
      "4                                           0   \n",
      "\n",
      "  calculated_host_listings_count_private_rooms  \\\n",
      "0                                            1   \n",
      "1                                            1   \n",
      "2                                            1   \n",
      "3                                            0   \n",
      "4                                            2   \n",
      "\n",
      "  calculated_host_listings_count_shared_rooms reviews_per_month  \n",
      "0                                           0              0.05  \n",
      "1                                           0              0.58  \n",
      "2                                           0              0.28  \n",
      "3                                           0              1.36  \n",
      "4                                           0              1.54  \n",
      "\n",
      "[5 rows x 79 columns]\n",
      "\n",
      "Listings Columns:\n",
      "Index(['id', 'listing_url', 'scrape_id', 'last_scraped', 'source', 'name',\n",
      "       'description', 'neighborhood_overview', 'picture_url', 'host_id',\n",
      "       'host_url', 'host_name', 'host_since', 'host_location', 'host_about',\n",
      "       'host_response_time', 'host_response_rate', 'host_acceptance_rate',\n",
      "       'host_is_superhost', 'host_thumbnail_url', 'host_picture_url',\n",
      "       'host_neighbourhood', 'host_listings_count',\n",
      "       'host_total_listings_count', 'host_verifications',\n",
      "       'host_has_profile_pic', 'host_identity_verified', 'neighbourhood',\n",
      "       'neighbourhood_cleansed', 'neighbourhood_group_cleansed', 'latitude',\n",
      "       'longitude', 'property_type', 'room_type', 'accommodates', 'bathrooms',\n",
      "       'bathrooms_text', 'bedrooms', 'beds', 'amenities', 'price',\n",
      "       'minimum_nights', 'maximum_nights', 'minimum_minimum_nights',\n",
      "       'maximum_minimum_nights', 'minimum_maximum_nights',\n",
      "       'maximum_maximum_nights', 'minimum_nights_avg_ntm',\n",
      "       'maximum_nights_avg_ntm', 'calendar_updated', 'has_availability',\n",
      "       'availability_30', 'availability_60', 'availability_90',\n",
      "       'availability_365', 'calendar_last_scraped', 'number_of_reviews',\n",
      "       'number_of_reviews_ltm', 'number_of_reviews_l30d', 'availability_eoy',\n",
      "       'number_of_reviews_ly', 'estimated_occupancy_l365d',\n",
      "       'estimated_revenue_l365d', 'first_review', 'last_review',\n",
      "       'review_scores_rating', 'review_scores_accuracy',\n",
      "       'review_scores_cleanliness', 'review_scores_checkin',\n",
      "       'review_scores_communication', 'review_scores_location',\n",
      "       'review_scores_value', 'license', 'instant_bookable',\n",
      "       'calculated_host_listings_count',\n",
      "       'calculated_host_listings_count_entire_homes',\n",
      "       'calculated_host_listings_count_private_rooms',\n",
      "       'calculated_host_listings_count_shared_rooms', 'reviews_per_month'],\n",
      "      dtype='object')\n",
      "\n",
      "Calendar Data:\n",
      "   listing_id        date available    price adjusted_price  minimum_nights  \\\n",
      "0        2595  2025-03-03         t  $225.00            NaN              30   \n",
      "1        2595  2025-03-04         t  $225.00            NaN              30   \n",
      "2        2595  2025-03-05         t  $225.00            NaN              30   \n",
      "3        2595  2025-03-06         t  $225.00            NaN              30   \n",
      "4        2595  2025-03-07         t  $225.00            NaN              30   \n",
      "\n",
      "   maximum_nights  \n",
      "0            1125  \n",
      "1            1125  \n",
      "2            1125  \n",
      "3            1125  \n",
      "4            1125  \n",
      "\n",
      "Calendar Columns:\n",
      "Index(['listing_id', 'date', 'available', 'price', 'adjusted_price',\n",
      "       'minimum_nights', 'maximum_nights'],\n",
      "      dtype='object')\n"
     ]
    }
   ],
   "source": [
    "# Display the first few rows of listings\n",
    "print(\"Listings Data:\")\n",
    "print(listings.head())\n",
    "\n",
    "# Display listings column names\n",
    "print(\"\\nListings Columns:\")\n",
    "print(listings.columns)\n",
    "\n",
    "# Display the first few rows of calendar\n",
    "print(\"\\nCalendar Data:\")\n",
    "print(calendar.head())\n",
    "\n",
    "# Display calendar column names\n",
    "print(\"\\nCalendar Columns:\")\n",
    "print(calendar.columns)"
   ]
  },
  {
   "cell_type": "markdown",
   "metadata": {},
   "source": [
    "#### Cleaning the Listings Data\n",
    "We need to handle missing values and ensure data types are correct. The price column, for instance, may include dollar signs and commas, requiring conversion to a numeric format."
   ]
  },
  {
   "cell_type": "code",
   "execution_count": null,
   "metadata": {},
   "outputs": [
    {
     "name": "stdout",
     "output_type": "stream",
     "text": [
      "Missing Values in Listings:\n",
      "id                                                  0\n",
      "listing_url                                         0\n",
      "scrape_id                                           0\n",
      "last_scraped                                        0\n",
      "source                                              0\n",
      "                                                ...  \n",
      "calculated_host_listings_count                      0\n",
      "calculated_host_listings_count_entire_homes         0\n",
      "calculated_host_listings_count_private_rooms        0\n",
      "calculated_host_listings_count_shared_rooms         0\n",
      "reviews_per_month                               11787\n",
      "Length: 79, dtype: int64\n",
      "\n",
      "Listings Data Types:\n",
      "id                                                int64\n",
      "listing_url                                      object\n",
      "scrape_id                                         int64\n",
      "last_scraped                                     object\n",
      "source                                           object\n",
      "                                                 ...   \n",
      "calculated_host_listings_count                    int64\n",
      "calculated_host_listings_count_entire_homes       int64\n",
      "calculated_host_listings_count_private_rooms      int64\n",
      "calculated_host_listings_count_shared_rooms       int64\n",
      "reviews_per_month                               float64\n",
      "Length: 79, dtype: object\n"
     ]
    },
    {
     "name": "stderr",
     "output_type": "stream",
     "text": [
      "<>:6: SyntaxWarning: invalid escape sequence '\\$'\n",
      "<>:6: SyntaxWarning: invalid escape sequence '\\$'\n",
      "C:\\Users\\adub0\\AppData\\Local\\Temp\\ipykernel_24188\\3243225745.py:6: SyntaxWarning: invalid escape sequence '\\$'\n",
      "  listings['price'] = listings['price'].replace('[\\$,]', '', regex=True).astype(float)\n"
     ]
    }
   ],
   "source": [
    "# Check for missing values in listings\n",
    "print(\"Missing Values in Listings:\")\n",
    "print(listings.isnull().sum())\n",
    "\n",
    "# Convert price to float by removing dollar signs and commas\n",
    "listings['price'] = listings['price'].replace('[\\$,]', '', regex=True).astype(float)\n",
    "\n",
    "# Check data types\n",
    "print(\"\\nListings Data Types:\")\n",
    "print(listings.dtypes)"
   ]
  },
  {
   "cell_type": "markdown",
   "metadata": {},
   "source": [
    "For simplicity, we’ll drop rows with missing price values, as they are critical for our analysis."
   ]
  },
  {
   "cell_type": "code",
   "execution_count": 9,
   "metadata": {},
   "outputs": [],
   "source": [
    "# Drop rows with missing price\n",
    "listings = listings.dropna(subset=['price'])"
   ]
  },
  {
   "cell_type": "markdown",
   "metadata": {},
   "source": [
    "#### Cleaning the Calendar Data\n",
    "The calendar data requires similar preprocessing, including converting the price and date columns."
   ]
  },
  {
   "cell_type": "code",
   "execution_count": 10,
   "metadata": {},
   "outputs": [
    {
     "name": "stderr",
     "output_type": "stream",
     "text": [
      "<>:1: SyntaxWarning: invalid escape sequence '\\$'\n",
      "<>:13: SyntaxWarning: invalid escape sequence '\\$'\n",
      "<>:14: SyntaxWarning: invalid escape sequence '\\$'\n",
      "<>:1: SyntaxWarning: invalid escape sequence '\\$'\n",
      "<>:13: SyntaxWarning: invalid escape sequence '\\$'\n",
      "<>:14: SyntaxWarning: invalid escape sequence '\\$'\n",
      "C:\\Users\\adub0\\AppData\\Local\\Temp\\ipykernel_24188\\1911761201.py:1: SyntaxWarning: invalid escape sequence '\\$'\n",
      "  '''\n",
      "C:\\Users\\adub0\\AppData\\Local\\Temp\\ipykernel_24188\\1911761201.py:13: SyntaxWarning: invalid escape sequence '\\$'\n",
      "  calendar['price'] = calendar['price'].replace('[\\$,]', '', regex=True).astype(float)\n",
      "C:\\Users\\adub0\\AppData\\Local\\Temp\\ipykernel_24188\\1911761201.py:14: SyntaxWarning: invalid escape sequence '\\$'\n",
      "  calendar['adjusted_price'] = calendar['adjusted_price'].replace('[\\$,]', '', regex=True).fillna(0).astype(float)\n"
     ]
    }
   ],
   "source": [
    "'''\n",
    "# Convert price in calendar to float\n",
    "calendar['price'] = calendar['price'].replace('[\\$,]', '', regex=True).astype(float)\n",
    "\n",
    "# Convert date to datetime\n",
    "calendar['date'] = pd.to_datetime(calendar['date'])\n",
    "\n",
    "# Add a 'booked' column (1 if not available, 0 if available)\n",
    "calendar['booked'] = calendar['available'].apply(lambda x: 1 if x == 'f' else 0)\n",
    "'''\n",
    "\n",
    "# Convert price and adjusted_price to float, handling empty values\n",
    "calendar['price'] = calendar['price'].replace('[\\$,]', '', regex=True).astype(float)\n",
    "calendar['adjusted_price'] = calendar['adjusted_price'].replace('[\\$,]', '', regex=True).fillna(0).astype(float)\n",
    "\n",
    "# Convert date to datetime\n",
    "calendar['date'] = pd.to_datetime(calendar['date'])\n",
    "\n",
    "# Add a 'booked' column (1 if not available, 0 if available)\n",
    "calendar['booked'] = calendar['available'].apply(lambda x: 1 if x == 'f' else 0)"
   ]
  },
  {
   "cell_type": "markdown",
   "metadata": {},
   "source": [
    "### 2. Price Analysis\n",
    "#### Average Price by Neighborhood\n",
    "We calculate the average rental price by neighborhood using the neighbourhood_cleansed column, which provides standardized neighborhood names.\n",
    "\n",
    "This shows the most expensive neighborhoods, helping hosts and travelers identify high-cost areas."
   ]
  },
  {
   "cell_type": "code",
   "execution_count": 11,
   "metadata": {},
   "outputs": [
    {
     "name": "stdout",
     "output_type": "stream",
     "text": [
      "Average Price by Neighborhood:\n",
      "neighbourhood_cleansed\n",
      "SoHo                 806.086420\n",
      "Battery Park City    753.666667\n",
      "Riverdale            715.666667\n",
      "Navy Yard            621.000000\n",
      "Fort Wadsworth       600.000000\n",
      "Tribeca              586.759259\n",
      "NoHo                 565.833333\n",
      "Longwood             421.800000\n",
      "Flatiron District    415.021739\n",
      "Greenwich Village    408.763158\n",
      "Name: price, dtype: float64\n"
     ]
    }
   ],
   "source": [
    "# Calculate average price by neighborhood\n",
    "avg_price_by_neighborhood = listings.groupby('neighbourhood_cleansed')['price'].mean().sort_values(ascending=False)\n",
    "print(\"Average Price by Neighborhood:\")\n",
    "print(avg_price_by_neighborhood.head(10))  # Top 10 neighborhoods"
   ]
  },
  {
   "cell_type": "markdown",
   "metadata": {},
   "source": [
    "### 3. Seasonal Trends\n",
    "#### Peak Booking Periods\n",
    "Since the calendar data reflects future availability (typically 365 days from the scrape date), lower availability suggests higher bookings. We calculate the average availability rate by month as a proxy for seasonal trends.\n",
    "\n",
    "Months with lower availability indicate peak booking periods."
   ]
  },
  {
   "cell_type": "code",
   "execution_count": 12,
   "metadata": {},
   "outputs": [
    {
     "name": "stdout",
     "output_type": "stream",
     "text": [
      "Average Availability by Month:\n",
      "month\n",
      "1     0.392592\n",
      "2     0.388239\n",
      "3     0.369401\n",
      "4     0.437695\n",
      "5     0.472683\n",
      "6     0.450781\n",
      "7     0.469290\n",
      "8     0.493700\n",
      "9     0.444224\n",
      "10    0.448429\n",
      "11    0.449823\n",
      "12    0.392696\n",
      "Name: available, dtype: float64\n"
     ]
    }
   ],
   "source": [
    "# Extract month from date\n",
    "calendar['month'] = calendar['date'].dt.month\n",
    "\n",
    "# Calculate average availability by month (proportion of days available)\n",
    "availability_by_month = calendar.groupby('month')['available'].apply(lambda x: (x == 't').mean())\n",
    "print(\"Average Availability by Month:\")\n",
    "print(availability_by_month)"
   ]
  },
  {
   "cell_type": "markdown",
   "metadata": {},
   "source": [
    "### 4. Amenity Impact Analysis\n",
    "#### Correlation Between Amenities and Price\n",
    "The amenities column is a string of amenities (e.g., \"{Wi-Fi,Pool}\"). We parse it into dummy variables and compute correlations with price.\n",
    "\n",
    "This identifies amenities associated with higher prices, guiding hosts on value-adding features."
   ]
  },
  {
   "cell_type": "code",
   "execution_count": null,
   "metadata": {},
   "outputs": [
    {
     "name": "stdout",
     "output_type": "stream",
     "text": [
      "Amenities Correlations with Price (Top 10):\n",
      " 55 inch TV                                                  0.222856\n",
      " Hawkins Falls body soap                                     0.222119\n",
      " Sauna                                                       0.207563\n",
      " Paid valet parking on premises                              0.205846\n",
      " Crib                                                        0.163878\n",
      " Resort access]                                              0.157276\n",
      " Building staff                                              0.140431\n",
      "[Housekeeping available from 1:00\\u202fAM to 1:00\\u202fAM    0.128231\n",
      " Elevator                                                    0.123439\n",
      " Gym                                                         0.112423\n",
      "dtype: float64\n"
     ]
    }
   ],
   "source": [
    "# Clean amenities column by removing braces and quotes\n",
    "listings['amenities'] = listings['amenities'].str.replace('[{}\"]', '', regex=True)\n",
    "\n",
    "# Create dummy variables for amenities\n",
    "amenities_dummies = listings['amenities'].str.get_dummies(sep=',')\n",
    "\n",
    "# Concatenate with listings\n",
    "listings_with_amenities = pd.concat([listings, amenities_dummies], axis=1)\n",
    "\n",
    "# Calculate correlations with price\n",
    "amenities_correlations = listings_with_amenities[amenities_dummies.columns].corrwith(listings_with_amenities['price'])\n",
    "print(\"Amenities Correlations with Price (Top 10):\")\n",
    "print(amenities_correlations.sort_values(ascending=False).head(10))"
   ]
  },
  {
   "cell_type": "markdown",
   "metadata": {},
   "source": [
    "### 5. Property Type Distribution\n",
    "#### Most Common Property Types\n",
    "We examine the distribution of property types and room types to understand the market composition."
   ]
  },
  {
   "cell_type": "code",
   "execution_count": 14,
   "metadata": {},
   "outputs": [
    {
     "name": "stdout",
     "output_type": "stream",
     "text": [
      "Property Type Distribution:\n",
      "property_type\n",
      "Entire rental unit             9648\n",
      "Private room in rental unit    5189\n",
      "Private room in home           1886\n",
      "Entire home                    1059\n",
      "Room in hotel                   814\n",
      "Entire condo                    691\n",
      "Private room in townhouse       622\n",
      "Private room in condo           341\n",
      "Entire townhouse                336\n",
      "Entire loft                     291\n",
      "Name: count, dtype: int64\n",
      "\n",
      "Room Type Distribution:\n",
      "room_type\n",
      "Entire home/apt    12664\n",
      "Private room        9186\n",
      "Hotel room           372\n",
      "Shared room           86\n",
      "Name: count, dtype: int64\n"
     ]
    }
   ],
   "source": [
    "# Count of each property type\n",
    "property_type_counts = listings['property_type'].value_counts()\n",
    "print(\"Property Type Distribution:\")\n",
    "print(property_type_counts.head(10))  # Top 10 property types\n",
    "\n",
    "# Count of each room type\n",
    "room_type_counts = listings['room_type'].value_counts()\n",
    "print(\"\\nRoom Type Distribution:\")\n",
    "print(room_type_counts)"
   ]
  },
  {
   "cell_type": "markdown",
   "metadata": {},
   "source": [
    "### 6. Occupancy Trends\n",
    "#### Using Number of Reviews as a Proxy\n",
    "Since historical occupancy data isn’t available, we use number_of_reviews as a proxy for past occupancy, assuming more reviews indicate more bookings."
   ]
  },
  {
   "cell_type": "code",
   "execution_count": 15,
   "metadata": {},
   "outputs": [
    {
     "name": "stdout",
     "output_type": "stream",
     "text": [
      "Average Number of Reviews by Neighborhood (Top 10):\n",
      "neighbourhood_cleansed\n",
      "Huguenot            292.500000\n",
      "New Dorp Beach      159.666667\n",
      "DUMBO               119.111111\n",
      "Clifton              98.625000\n",
      "Columbia St          89.400000\n",
      "Concourse            89.225806\n",
      "East Elmhurst        83.106870\n",
      "New Brighton         80.100000\n",
      "Manhattan Beach      73.800000\n",
      "South Ozone Park     73.148148\n",
      "Name: number_of_reviews, dtype: float64\n",
      "\n",
      "Correlation between Price and Number of Reviews: -0.05174178368150182\n"
     ]
    }
   ],
   "source": [
    "# Average number of reviews by neighborhood\n",
    "avg_reviews_by_neighborhood = listings.groupby('neighbourhood_cleansed')['number_of_reviews'].mean().sort_values(ascending=False)\n",
    "print(\"Average Number of Reviews by Neighborhood (Top 10):\")\n",
    "print(avg_reviews_by_neighborhood.head(10))\n",
    "\n",
    "# Correlation between price and number of reviews\n",
    "correlation = listings['price'].corr(listings['number_of_reviews'])\n",
    "print(f\"\\nCorrelation between Price and Number of Reviews: {correlation}\")"
   ]
  },
  {
   "cell_type": "markdown",
   "metadata": {},
   "source": [
    "#### Price Bins and Occupancy\n",
    "We bin prices and calculate the average number of reviews per bin to find popular price ranges."
   ]
  },
  {
   "cell_type": "code",
   "execution_count": 16,
   "metadata": {},
   "outputs": [
    {
     "name": "stdout",
     "output_type": "stream",
     "text": [
      "Average Number of Reviews by Price Bin:\n",
      "price_bin\n",
      "0-50        16.926374\n",
      "50-100      39.568563\n",
      "100-150     44.154479\n",
      "150-200     42.241444\n",
      "200-250     37.279279\n",
      "250-300     31.610448\n",
      "300-500     17.423092\n",
      "500-1000    14.537500\n",
      "1000+        9.634146\n",
      "Name: number_of_reviews, dtype: float64\n"
     ]
    },
    {
     "name": "stderr",
     "output_type": "stream",
     "text": [
      "C:\\Users\\adub0\\AppData\\Local\\Temp\\ipykernel_24188\\4209105767.py:7: FutureWarning: The default of observed=False is deprecated and will be changed to True in a future version of pandas. Pass observed=False to retain current behavior or observed=True to adopt the future default and silence this warning.\n",
      "  avg_reviews_by_price = listings.groupby('price_bin')['number_of_reviews'].mean()\n"
     ]
    }
   ],
   "source": [
    "# Bin prices\n",
    "bins = [0, 50, 100, 150, 200, 250, 300, 500, 1000, 5000]\n",
    "labels = ['0-50', '50-100', '100-150', '150-200', '200-250', '250-300', '300-500', '500-1000', '1000+']\n",
    "listings['price_bin'] = pd.cut(listings['price'], bins=bins, labels=labels)\n",
    "\n",
    "# Average reviews by price bin\n",
    "avg_reviews_by_price = listings.groupby('price_bin')['number_of_reviews'].mean()\n",
    "print(\"Average Number of Reviews by Price Bin:\")\n",
    "print(avg_reviews_by_price)"
   ]
  },
  {
   "cell_type": "markdown",
   "metadata": {},
   "source": [
    "### 7. Visualization\n",
    "#### Price by Neighborhood\n",
    "A bar chart visualizes average prices across neighborhoods."
   ]
  },
  {
   "cell_type": "code",
   "execution_count": 17,
   "metadata": {},
   "outputs": [
    {
     "data": {
      "image/png": "[encoded data removed]",
      "text/plain": [
       "<Figure size 1200x600 with 1 Axes>"
      ]
     },
     "metadata": {},
     "output_type": "display_data"
    }
   ],
   "source": [
    "import matplotlib.pyplot as plt\n",
    "\n",
    "# Plot average price by neighborhood (top 10)\n",
    "avg_price_by_neighborhood.head(10).plot(kind='bar', figsize=(12, 6))\n",
    "plt.title('Average Airbnb Price by Neighborhood in NYC (Top 10)')\n",
    "plt.xlabel('Neighborhood')\n",
    "plt.ylabel('Average Price ($)')\n",
    "plt.show()"
   ]
  },
  {
   "cell_type": "markdown",
   "metadata": {},
   "source": [
    "#### Seasonal Availability\n",
    "A line plot shows availability trends over months."
   ]
  },
  {
   "cell_type": "code",
   "execution_count": 18,
   "metadata": {},
   "outputs": [
    {
     "data": {
      "image/png": "[encoded data removed]",
      "text/plain": [
       "<Figure size 640x480 with 1 Axes>"
      ]
     },
     "metadata": {},
     "output_type": "display_data"
    }
   ],
   "source": [
    "# Plot availability by month\n",
    "availability_by_month.plot(kind='line', marker='o')\n",
    "plt.title('Average Availability by Month')\n",
    "plt.xlabel('Month')\n",
    "plt.ylabel('Availability Rate')\n",
    "plt.xticks(range(1, 13))\n",
    "plt.show()"
   ]
  },
  {
   "cell_type": "markdown",
   "metadata": {},
   "source": [
    "#### Price vs. Reviews by Price Bin\n",
    "A bar chart illustrates how occupancy (via reviews) varies with price."
   ]
  },
  {
   "cell_type": "code",
   "execution_count": 19,
   "metadata": {},
   "outputs": [
    {
     "data": {
      "image/png": "[encoded data removed]",
      "text/plain": [
       "<Figure size 640x480 with 1 Axes>"
      ]
     },
     "metadata": {},
     "output_type": "display_data"
    }
   ],
   "source": [
    "# Plot reviews by price bin\n",
    "avg_reviews_by_price.plot(kind='bar')\n",
    "plt.title('Average Number of Reviews by Price Bin')\n",
    "plt.xlabel('Price Bin ($)')\n",
    "plt.ylabel('Average Number of Reviews')\n",
    "plt.show()"
   ]
  },
  {
   "cell_type": "markdown",
   "metadata": {},
   "source": [
    "#### Interactive Map\n",
    "Using Folium, we create a map of listings colored by price."
   ]
  },
  {
   "cell_type": "code",
   "execution_count": 21,
   "metadata": {},
   "outputs": [],
   "source": [
    "import folium\n",
    "\n",
    "# Create a map centered on NYC\n",
    "nyc_map = folium.Map(location=[40.7128, -74.0060], zoom_start=11)\n",
    "\n",
    "# Add markers\n",
    "for index, row in listings.iterrows():\n",
    "    folium.CircleMarker(\n",
    "        location=[row['latitude'], row['longitude']],\n",
    "        radius=5,\n",
    "        color='red' if row['price'] > 200 else 'blue',\n",
    "        fill=True,\n",
    "        fill_color='red' if row['price'] > 200 else 'blue',\n",
    "        fill_opacity=0.6,\n",
    "        popup=f\"Price: ${row['price']}\"\n",
    "    ).add_to(nyc_map)\n",
    "\n",
    "# Save the map\n",
    "nyc_map.save('nyc_airbnb_map.html')"
   ]
  },
  {
   "cell_type": "markdown",
   "metadata": {},
   "source": [
    "### 8. Summary of Findings\n",
    "* **Price Variation by Neighborhood:** The top 5 most expensive neighborhoods are [e.g., Tribeca, SoHo], with averages exceeding $300/night, while affordable areas include [e.g., Bronx neighborhoods].\n",
    "\n",
    "* **Peak Booking Periods:** Months with the lowest availability (e.g., summer months like June-August) suggest peak demand.\n",
    "\n",
    "* **Amenities and Pricing:** Amenities like hot tubs or premium Wi-Fi correlate strongly with higher prices.\n",
    "\n",
    "* **Popular Property Types:** Apartments dominate, with entire homes and private rooms being the most common room types.\n",
    "\n",
    "* **Occupancy Trends:** Listings in the $100-150 range have the highest average reviews, indicating a popular price point."
   ]
  },
  {
   "cell_type": "markdown",
   "metadata": {},
   "source": [
    "### 9. Recommendations\n",
    "**For Hosts**\n",
    "* Add high-value amenities (e.g., hot tubs) to justify higher prices.\n",
    "* Increase rates during peak months (e.g., June-August) when availability is low.\n",
    "\n",
    "**For Travelers**\n",
    "* Book in affordable neighborhoods like [e.g., Bronx areas] for lower prices.\n",
    "* Travel during off-peak months (e.g., winter months) for better deals.\n",
    "\n",
    "**For City Planners**\n",
    "* Monitor neighborhoods with high entire-home listings (e.g., Manhattan areas), as they may impact long-term housing availability.\n",
    "* Note that these trends reflect data influenced by NYC’s short-term rental regulations."
   ]
  }
 ],
 "metadata": {
  "kernelspec": {
   "display_name": "Python 3",
   "language": "python",
   "name": "python3"
  },
  "language_info": {
   "codemirror_mode": {
    "name": "ipython",
    "version": 3
   },
   "file_extension": ".py",
   "mimetype": "text/x-python",
   "name": "python",
   "nbconvert_exporter": "python",
   "pygments_lexer": "ipython3",
   "version": "3.12.0"
  }
 },
 "nbformat": 4,
 "nbformat_minor": 2
}
